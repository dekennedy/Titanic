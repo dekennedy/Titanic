{
 "cells": [
  {
   "cell_type": "code",
   "execution_count": 1,
   "metadata": {
    "_cell_guid": "b1076dfc-b9ad-4769-8c92-a6c4dae69d19",
    "_uuid": "8f2839f25d086af736a60e9eeb907d3b93b6e0e5",
    "execution": {
     "iopub.execute_input": "2022-03-26T22:45:51.150997Z",
     "iopub.status.busy": "2022-03-26T22:45:51.150275Z",
     "iopub.status.idle": "2022-03-26T22:45:51.155438Z",
     "shell.execute_reply": "2022-03-26T22:45:51.156185Z",
     "shell.execute_reply.started": "2022-03-26T22:45:04.407525Z"
    },
    "papermill": {
     "duration": 0.031349,
     "end_time": "2022-03-26T22:45:51.156427",
     "exception": false,
     "start_time": "2022-03-26T22:45:51.125078",
     "status": "completed"
    },
    "tags": []
   },
   "outputs": [
    {
     "name": "stdout",
     "output_type": "stream",
     "text": [
      "/kaggle/input/titanic/train.csv\n",
      "/kaggle/input/titanic/test.csv\n",
      "/kaggle/input/titanic/gender_submission.csv\n"
     ]
    }
   ],
   "source": [
    "# This Python 3 environment comes with many helpful analytics libraries installed\n",
    "# It is defined by the kaggle/python Docker image: https://github.com/kaggle/docker-python\n",
    "# For example, here's several helpful packages to load\n",
    "\n",
    "import numpy as np # linear algebra\n",
    "import pandas as pd # data processing, CSV file I/O (e.g. pd.read_csv)\n",
    "\n",
    "# Input data files are available in the read-only \"../input/\" directory\n",
    "# For example, running this (by clicking run or pressing Shift+Enter) will list all files under the input directory\n",
    "\n",
    "import os\n",
    "for dirname, _, filenames in os.walk('/kaggle/input'):\n",
    "    for filename in filenames:\n",
    "        print(os.path.join(dirname, filename))\n",
    "\n",
    "# You can write up to 20GB to the current directory (/kaggle/working/) that gets preserved as output when you create a version using \"Save & Run All\" \n",
    "# You can also write temporary files to /kaggle/temp/, but they won't be saved outside of the current session"
   ]
  },
  {
   "cell_type": "code",
   "execution_count": 2,
   "metadata": {
    "execution": {
     "iopub.execute_input": "2022-03-26T22:45:51.204594Z",
     "iopub.status.busy": "2022-03-26T22:45:51.203936Z",
     "iopub.status.idle": "2022-03-26T22:45:51.206873Z",
     "shell.execute_reply": "2022-03-26T22:45:51.206281Z",
     "shell.execute_reply.started": "2022-03-26T22:45:04.420846Z"
    },
    "papermill": {
     "duration": 0.033584,
     "end_time": "2022-03-26T22:45:51.207004",
     "exception": false,
     "start_time": "2022-03-26T22:45:51.173420",
     "status": "completed"
    },
    "tags": []
   },
   "outputs": [],
   "source": [
    "%config Completer.use_jedi = False"
   ]
  },
  {
   "cell_type": "code",
   "execution_count": 3,
   "metadata": {
    "_cell_guid": "79c7e3d0-c299-4dcb-8224-4455121ee9b0",
    "_uuid": "d629ff2d2480ee46fbb7e2d37f6b5fab8052498a",
    "execution": {
     "iopub.execute_input": "2022-03-26T22:45:51.247207Z",
     "iopub.status.busy": "2022-03-26T22:45:51.246513Z",
     "iopub.status.idle": "2022-03-26T22:45:51.284599Z",
     "shell.execute_reply": "2022-03-26T22:45:51.284035Z",
     "shell.execute_reply.started": "2022-03-26T22:45:04.452274Z"
    },
    "papermill": {
     "duration": 0.061508,
     "end_time": "2022-03-26T22:45:51.284761",
     "exception": false,
     "start_time": "2022-03-26T22:45:51.223253",
     "status": "completed"
    },
    "tags": []
   },
   "outputs": [
    {
     "data": {
      "text/html": [
       "<div>\n",
       "<style scoped>\n",
       "    .dataframe tbody tr th:only-of-type {\n",
       "        vertical-align: middle;\n",
       "    }\n",
       "\n",
       "    .dataframe tbody tr th {\n",
       "        vertical-align: top;\n",
       "    }\n",
       "\n",
       "    .dataframe thead th {\n",
       "        text-align: right;\n",
       "    }\n",
       "</style>\n",
       "<table border=\"1\" class=\"dataframe\">\n",
       "  <thead>\n",
       "    <tr style=\"text-align: right;\">\n",
       "      <th></th>\n",
       "      <th>PassengerId</th>\n",
       "      <th>Survived</th>\n",
       "      <th>Pclass</th>\n",
       "      <th>Name</th>\n",
       "      <th>Sex</th>\n",
       "      <th>Age</th>\n",
       "      <th>SibSp</th>\n",
       "      <th>Parch</th>\n",
       "      <th>Ticket</th>\n",
       "      <th>Fare</th>\n",
       "      <th>Cabin</th>\n",
       "      <th>Embarked</th>\n",
       "    </tr>\n",
       "  </thead>\n",
       "  <tbody>\n",
       "    <tr>\n",
       "      <th>0</th>\n",
       "      <td>1</td>\n",
       "      <td>0</td>\n",
       "      <td>3</td>\n",
       "      <td>Braund, Mr. Owen Harris</td>\n",
       "      <td>male</td>\n",
       "      <td>22.0</td>\n",
       "      <td>1</td>\n",
       "      <td>0</td>\n",
       "      <td>A/5 21171</td>\n",
       "      <td>7.2500</td>\n",
       "      <td>NaN</td>\n",
       "      <td>S</td>\n",
       "    </tr>\n",
       "    <tr>\n",
       "      <th>1</th>\n",
       "      <td>2</td>\n",
       "      <td>1</td>\n",
       "      <td>1</td>\n",
       "      <td>Cumings, Mrs. John Bradley (Florence Briggs Th...</td>\n",
       "      <td>female</td>\n",
       "      <td>38.0</td>\n",
       "      <td>1</td>\n",
       "      <td>0</td>\n",
       "      <td>PC 17599</td>\n",
       "      <td>71.2833</td>\n",
       "      <td>C85</td>\n",
       "      <td>C</td>\n",
       "    </tr>\n",
       "    <tr>\n",
       "      <th>2</th>\n",
       "      <td>3</td>\n",
       "      <td>1</td>\n",
       "      <td>3</td>\n",
       "      <td>Heikkinen, Miss. Laina</td>\n",
       "      <td>female</td>\n",
       "      <td>26.0</td>\n",
       "      <td>0</td>\n",
       "      <td>0</td>\n",
       "      <td>STON/O2. 3101282</td>\n",
       "      <td>7.9250</td>\n",
       "      <td>NaN</td>\n",
       "      <td>S</td>\n",
       "    </tr>\n",
       "    <tr>\n",
       "      <th>3</th>\n",
       "      <td>4</td>\n",
       "      <td>1</td>\n",
       "      <td>1</td>\n",
       "      <td>Futrelle, Mrs. Jacques Heath (Lily May Peel)</td>\n",
       "      <td>female</td>\n",
       "      <td>35.0</td>\n",
       "      <td>1</td>\n",
       "      <td>0</td>\n",
       "      <td>113803</td>\n",
       "      <td>53.1000</td>\n",
       "      <td>C123</td>\n",
       "      <td>S</td>\n",
       "    </tr>\n",
       "    <tr>\n",
       "      <th>4</th>\n",
       "      <td>5</td>\n",
       "      <td>0</td>\n",
       "      <td>3</td>\n",
       "      <td>Allen, Mr. William Henry</td>\n",
       "      <td>male</td>\n",
       "      <td>35.0</td>\n",
       "      <td>0</td>\n",
       "      <td>0</td>\n",
       "      <td>373450</td>\n",
       "      <td>8.0500</td>\n",
       "      <td>NaN</td>\n",
       "      <td>S</td>\n",
       "    </tr>\n",
       "  </tbody>\n",
       "</table>\n",
       "</div>"
      ],
      "text/plain": [
       "   PassengerId  Survived  Pclass  \\\n",
       "0            1         0       3   \n",
       "1            2         1       1   \n",
       "2            3         1       3   \n",
       "3            4         1       1   \n",
       "4            5         0       3   \n",
       "\n",
       "                                                Name     Sex   Age  SibSp  \\\n",
       "0                            Braund, Mr. Owen Harris    male  22.0      1   \n",
       "1  Cumings, Mrs. John Bradley (Florence Briggs Th...  female  38.0      1   \n",
       "2                             Heikkinen, Miss. Laina  female  26.0      0   \n",
       "3       Futrelle, Mrs. Jacques Heath (Lily May Peel)  female  35.0      1   \n",
       "4                           Allen, Mr. William Henry    male  35.0      0   \n",
       "\n",
       "   Parch            Ticket     Fare Cabin Embarked  \n",
       "0      0         A/5 21171   7.2500   NaN        S  \n",
       "1      0          PC 17599  71.2833   C85        C  \n",
       "2      0  STON/O2. 3101282   7.9250   NaN        S  \n",
       "3      0            113803  53.1000  C123        S  \n",
       "4      0            373450   8.0500   NaN        S  "
      ]
     },
     "execution_count": 3,
     "metadata": {},
     "output_type": "execute_result"
    }
   ],
   "source": [
    "train_data = pd.read_csv('/kaggle/input/titanic/train.csv')\n",
    "\n",
    "train_data.head()\n",
    "\n",
    "\n",
    "\n"
   ]
  },
  {
   "cell_type": "code",
   "execution_count": 4,
   "metadata": {
    "execution": {
     "iopub.execute_input": "2022-03-26T22:45:51.324858Z",
     "iopub.status.busy": "2022-03-26T22:45:51.324149Z",
     "iopub.status.idle": "2022-03-26T22:45:51.335681Z",
     "shell.execute_reply": "2022-03-26T22:45:51.336408Z",
     "shell.execute_reply.started": "2022-03-26T22:45:04.485926Z"
    },
    "papermill": {
     "duration": 0.035154,
     "end_time": "2022-03-26T22:45:51.336595",
     "exception": false,
     "start_time": "2022-03-26T22:45:51.301441",
     "status": "completed"
    },
    "tags": []
   },
   "outputs": [],
   "source": [
    "test_data = pd.read_csv(\"/kaggle/input/titanic/test.csv\")\n",
    "test_data.head()\n",
    "\n",
    "test_ids = test_data[\"PassengerId\"]\n"
   ]
  },
  {
   "cell_type": "code",
   "execution_count": 5,
   "metadata": {
    "execution": {
     "iopub.execute_input": "2022-03-26T22:45:51.375759Z",
     "iopub.status.busy": "2022-03-26T22:45:51.374753Z",
     "iopub.status.idle": "2022-03-26T22:45:51.386158Z",
     "shell.execute_reply": "2022-03-26T22:45:51.385256Z",
     "shell.execute_reply.started": "2022-03-26T22:45:04.498703Z"
    },
    "papermill": {
     "duration": 0.031847,
     "end_time": "2022-03-26T22:45:51.386324",
     "exception": false,
     "start_time": "2022-03-26T22:45:51.354477",
     "status": "completed"
    },
    "tags": []
   },
   "outputs": [
    {
     "name": "stdout",
     "output_type": "stream",
     "text": [
      "% of women who survived: 0.7420382165605095\n"
     ]
    }
   ],
   "source": [
    "women = train_data.loc[train_data.Sex == 'female'][\"Survived\"]\n",
    "rate_women = sum(women)/len(women)\n",
    "\n",
    "\n",
    "\n",
    "print(\"% of women who survived:\", rate_women)\n"
   ]
  },
  {
   "cell_type": "code",
   "execution_count": 6,
   "metadata": {
    "execution": {
     "iopub.execute_input": "2022-03-26T22:45:51.430626Z",
     "iopub.status.busy": "2022-03-26T22:45:51.429918Z",
     "iopub.status.idle": "2022-03-26T22:45:52.612469Z",
     "shell.execute_reply": "2022-03-26T22:45:52.611750Z",
     "shell.execute_reply.started": "2022-03-26T22:45:04.509805Z"
    },
    "papermill": {
     "duration": 1.208776,
     "end_time": "2022-03-26T22:45:52.612594",
     "exception": false,
     "start_time": "2022-03-26T22:45:51.403818",
     "status": "completed"
    },
    "tags": []
   },
   "outputs": [],
   "source": [
    "from sklearn.impute import SimpleImputer\n",
    "from sklearn import preprocessing\n",
    "le = preprocessing.LabelEncoder()\n",
    "from sklearn.model_selection import train_test_split\n",
    "\n",
    "test_data = pd.read_csv(\"/kaggle/input/titanic/test.csv\")\n",
    "train_data = pd.read_csv('/kaggle/input/titanic/train.csv')\n",
    "\n",
    "#function to clean the data \n",
    "# easy for train test split\n",
    "\n",
    "def clean(data):\n",
    "    data = data.drop(['Ticket','PassengerId', \"Name\"], axis =1)\n",
    "    \n",
    "    \n",
    "    # fill list of cols with the median value\n",
    "    cols= [\"SibSp\", \"Parch\", \"Fare\", \"Age\"]\n",
    "    for col in cols:\n",
    "        data[col].fillna(data[col].median(), inplace=True)\n",
    "        \n",
    "    #fill Embarked with U for Unknown    \n",
    "    data.Embarked.fillna('U', inplace=True)\n",
    "    \n",
    "    #fill Cabin with U for Unknown    \n",
    "    data.Cabin.fillna('U', inplace=True)\n",
    "    data['Cabin'] = train_data['Cabin'].astype(str).str[0]\n",
    "    \n",
    "    \n",
    "    #map string columns\n",
    "    \n",
    "    cols_to_map = ['Sex', 'Embarked', 'Cabin']\n",
    "    for col in cols_to_map:\n",
    "        data[col] = le.fit_transform(data[col])\n",
    "        \n",
    "           \n",
    "    return data\n",
    "\n",
    "train_data = clean(train_data)\n",
    "test_data = clean(test_data)\n",
    "\n",
    "\n",
    "\n",
    "\n",
    "y = train_data[\"Survived\"]\n",
    "X = train_data.drop(\"Survived\", axis=1)\n",
    "\n",
    "X_train, X_val, y_train, y_val = train_test_split(X, y, test_size = .3, random_state = 42)\n",
    "\n",
    "\n",
    "\n",
    "\n",
    "\n",
    "\n"
   ]
  },
  {
   "cell_type": "code",
   "execution_count": 7,
   "metadata": {
    "execution": {
     "iopub.execute_input": "2022-03-26T22:45:52.653933Z",
     "iopub.status.busy": "2022-03-26T22:45:52.653229Z",
     "iopub.status.idle": "2022-03-26T22:45:52.692899Z",
     "shell.execute_reply": "2022-03-26T22:45:52.693385Z",
     "shell.execute_reply.started": "2022-03-26T22:45:04.547366Z"
    },
    "papermill": {
     "duration": 0.063191,
     "end_time": "2022-03-26T22:45:52.693543",
     "exception": false,
     "start_time": "2022-03-26T22:45:52.630352",
     "status": "completed"
    },
    "tags": []
   },
   "outputs": [
    {
     "data": {
      "text/plain": [
       "0.7574626865671642"
      ]
     },
     "execution_count": 7,
     "metadata": {},
     "output_type": "execute_result"
    }
   ],
   "source": [
    "from sklearn import tree\n",
    "\n",
    "clf2 = tree.DecisionTreeClassifier()\n",
    "\n",
    "clf2 = clf2.fit(X_train, y_train)\n",
    "\n",
    "\n",
    "\n",
    "from sklearn.metrics import accuracy_score\n",
    "\n",
    "prediction = clf2.predict(X_val)\n",
    "\n",
    "accuracy_score(y_val, prediction)\n",
    "\n",
    "\n",
    "\n"
   ]
  },
  {
   "cell_type": "code",
   "execution_count": 8,
   "metadata": {
    "execution": {
     "iopub.execute_input": "2022-03-26T22:45:52.736459Z",
     "iopub.status.busy": "2022-03-26T22:45:52.735757Z",
     "iopub.status.idle": "2022-03-26T22:45:52.739217Z",
     "shell.execute_reply": "2022-03-26T22:45:52.738549Z",
     "shell.execute_reply.started": "2022-03-26T22:45:04.563620Z"
    },
    "papermill": {
     "duration": 0.028258,
     "end_time": "2022-03-26T22:45:52.739334",
     "exception": false,
     "start_time": "2022-03-26T22:45:52.711076",
     "status": "completed"
    },
    "tags": []
   },
   "outputs": [],
   "source": [
    "prediction = clf2.predict(test_data)"
   ]
  },
  {
   "cell_type": "code",
   "execution_count": 9,
   "metadata": {
    "execution": {
     "iopub.execute_input": "2022-03-26T22:45:52.781104Z",
     "iopub.status.busy": "2022-03-26T22:45:52.780387Z",
     "iopub.status.idle": "2022-03-26T22:45:53.145370Z",
     "shell.execute_reply": "2022-03-26T22:45:53.144618Z",
     "shell.execute_reply.started": "2022-03-26T22:45:04.573449Z"
    },
    "papermill": {
     "duration": 0.388775,
     "end_time": "2022-03-26T22:45:53.145496",
     "exception": false,
     "start_time": "2022-03-26T22:45:52.756721",
     "status": "completed"
    },
    "tags": []
   },
   "outputs": [],
   "source": [
    "submission = pd.DataFrame({\n",
    "                            'PassengerId': test_ids.values,\n",
    "                            'Survived': prediction})\n",
    "\n",
    "submission.to_csv('titanic_using_DTC3.csv', index=False)\n",
    "\n",
    "\n",
    "\n"
   ]
  },
  {
   "cell_type": "code",
   "execution_count": 10,
   "metadata": {
    "execution": {
     "iopub.execute_input": "2022-03-26T22:45:53.195137Z",
     "iopub.status.busy": "2022-03-26T22:45:53.194145Z",
     "iopub.status.idle": "2022-03-26T22:45:53.199306Z",
     "shell.execute_reply": "2022-03-26T22:45:53.198740Z",
     "shell.execute_reply.started": "2022-03-26T22:45:04.588346Z"
    },
    "papermill": {
     "duration": 0.035804,
     "end_time": "2022-03-26T22:45:53.199424",
     "exception": false,
     "start_time": "2022-03-26T22:45:53.163620",
     "status": "completed"
    },
    "tags": []
   },
   "outputs": [
    {
     "data": {
      "text/html": [
       "<div>\n",
       "<style scoped>\n",
       "    .dataframe tbody tr th:only-of-type {\n",
       "        vertical-align: middle;\n",
       "    }\n",
       "\n",
       "    .dataframe tbody tr th {\n",
       "        vertical-align: top;\n",
       "    }\n",
       "\n",
       "    .dataframe thead th {\n",
       "        text-align: right;\n",
       "    }\n",
       "</style>\n",
       "<table border=\"1\" class=\"dataframe\">\n",
       "  <thead>\n",
       "    <tr style=\"text-align: right;\">\n",
       "      <th></th>\n",
       "      <th>Survived</th>\n",
       "      <th>Pclass</th>\n",
       "      <th>Sex</th>\n",
       "      <th>Age</th>\n",
       "      <th>SibSp</th>\n",
       "      <th>Parch</th>\n",
       "      <th>Fare</th>\n",
       "      <th>Cabin</th>\n",
       "      <th>Embarked</th>\n",
       "    </tr>\n",
       "  </thead>\n",
       "  <tbody>\n",
       "    <tr>\n",
       "      <th>0</th>\n",
       "      <td>0</td>\n",
       "      <td>3</td>\n",
       "      <td>1</td>\n",
       "      <td>22.0</td>\n",
       "      <td>1</td>\n",
       "      <td>0</td>\n",
       "      <td>7.2500</td>\n",
       "      <td>8</td>\n",
       "      <td>2</td>\n",
       "    </tr>\n",
       "    <tr>\n",
       "      <th>1</th>\n",
       "      <td>1</td>\n",
       "      <td>1</td>\n",
       "      <td>0</td>\n",
       "      <td>38.0</td>\n",
       "      <td>1</td>\n",
       "      <td>0</td>\n",
       "      <td>71.2833</td>\n",
       "      <td>2</td>\n",
       "      <td>0</td>\n",
       "    </tr>\n",
       "    <tr>\n",
       "      <th>2</th>\n",
       "      <td>1</td>\n",
       "      <td>3</td>\n",
       "      <td>0</td>\n",
       "      <td>26.0</td>\n",
       "      <td>0</td>\n",
       "      <td>0</td>\n",
       "      <td>7.9250</td>\n",
       "      <td>8</td>\n",
       "      <td>2</td>\n",
       "    </tr>\n",
       "    <tr>\n",
       "      <th>3</th>\n",
       "      <td>1</td>\n",
       "      <td>1</td>\n",
       "      <td>0</td>\n",
       "      <td>35.0</td>\n",
       "      <td>1</td>\n",
       "      <td>0</td>\n",
       "      <td>53.1000</td>\n",
       "      <td>2</td>\n",
       "      <td>2</td>\n",
       "    </tr>\n",
       "    <tr>\n",
       "      <th>4</th>\n",
       "      <td>0</td>\n",
       "      <td>3</td>\n",
       "      <td>1</td>\n",
       "      <td>35.0</td>\n",
       "      <td>0</td>\n",
       "      <td>0</td>\n",
       "      <td>8.0500</td>\n",
       "      <td>8</td>\n",
       "      <td>2</td>\n",
       "    </tr>\n",
       "  </tbody>\n",
       "</table>\n",
       "</div>"
      ],
      "text/plain": [
       "   Survived  Pclass  Sex   Age  SibSp  Parch     Fare  Cabin  Embarked\n",
       "0         0       3    1  22.0      1      0   7.2500      8         2\n",
       "1         1       1    0  38.0      1      0  71.2833      2         0\n",
       "2         1       3    0  26.0      0      0   7.9250      8         2\n",
       "3         1       1    0  35.0      1      0  53.1000      2         2\n",
       "4         0       3    1  35.0      0      0   8.0500      8         2"
      ]
     },
     "execution_count": 10,
     "metadata": {},
     "output_type": "execute_result"
    }
   ],
   "source": [
    "train_data.head()\n",
    "\n",
    "# train_data.Cabin.fillna('U', inplace=True)\n",
    "# train_data['Cabin'] = train_data['Cabin'].astype(str).str[0]\n",
    "# train_data.Cabin.unique"
   ]
  },
  {
   "cell_type": "code",
   "execution_count": 11,
   "metadata": {
    "execution": {
     "iopub.execute_input": "2022-03-26T22:45:53.249043Z",
     "iopub.status.busy": "2022-03-26T22:45:53.244307Z",
     "iopub.status.idle": "2022-03-26T22:45:53.277470Z",
     "shell.execute_reply": "2022-03-26T22:45:53.276912Z",
     "shell.execute_reply.started": "2022-03-26T22:45:04.607757Z"
    },
    "papermill": {
     "duration": 0.060092,
     "end_time": "2022-03-26T22:45:53.277601",
     "exception": false,
     "start_time": "2022-03-26T22:45:53.217509",
     "status": "completed"
    },
    "tags": []
   },
   "outputs": [],
   "source": [
    "# reload csv\n",
    "\n",
    "train_data = pd.read_csv('/kaggle/input/titanic/train.csv')\n",
    "\n",
    "test_data = pd.read_csv(\"/kaggle/input/titanic/test.csv\")\n",
    "\n",
    "\n",
    "test_ids = test_data[\"PassengerId\"]\n",
    "\n",
    "\n",
    "\n",
    "from sklearn import preprocessing\n",
    "le = preprocessing.LabelEncoder()\n",
    "\n",
    "\n",
    "#function to clean the data \n",
    "# easy for train test split\n",
    "\n",
    "def clean(data):\n",
    "    data = data.drop(['Ticket','PassengerId', \"Name\"], axis =1)\n",
    "    \n",
    "    \n",
    "    # fill list of cols with the median value\n",
    "    cols= [\"SibSp\", \"Parch\", \"Fare\", \"Age\"]\n",
    "    for col in cols:\n",
    "        data[col].fillna(data[col].median(), inplace=True)\n",
    "        \n",
    "    #fill Embarked with U for Unknown    \n",
    "    data.Embarked.fillna('U', inplace=True)\n",
    "    \n",
    "    #fill Cabin with U for Unknown    \n",
    "    data.Cabin.fillna('U', inplace=True)\n",
    "    data['Cabin'] = train_data['Cabin'].astype(str).str[0]\n",
    "    \n",
    "    \n",
    "    #map string columns\n",
    "    \n",
    "    cols_to_map = ['Sex', 'Embarked', 'Cabin']\n",
    "    for col in cols_to_map:\n",
    "        data[col] = le.fit_transform(data[col])\n",
    "        \n",
    "           \n",
    "    return data\n",
    "\n",
    "train_data = clean(train_data)\n",
    "test_data = clean(test_data)\n",
    "\n",
    " \n",
    "\n",
    "    \n",
    "    \n",
    "    \n",
    "\n",
    "\n"
   ]
  },
  {
   "cell_type": "code",
   "execution_count": 12,
   "metadata": {
    "execution": {
     "iopub.execute_input": "2022-03-26T22:45:53.326841Z",
     "iopub.status.busy": "2022-03-26T22:45:53.326100Z",
     "iopub.status.idle": "2022-03-26T22:45:53.329918Z",
     "shell.execute_reply": "2022-03-26T22:45:53.330438Z",
     "shell.execute_reply.started": "2022-03-26T22:45:04.640884Z"
    },
    "papermill": {
     "duration": 0.034314,
     "end_time": "2022-03-26T22:45:53.330597",
     "exception": false,
     "start_time": "2022-03-26T22:45:53.296283",
     "status": "completed"
    },
    "tags": []
   },
   "outputs": [
    {
     "data": {
      "text/html": [
       "<div>\n",
       "<style scoped>\n",
       "    .dataframe tbody tr th:only-of-type {\n",
       "        vertical-align: middle;\n",
       "    }\n",
       "\n",
       "    .dataframe tbody tr th {\n",
       "        vertical-align: top;\n",
       "    }\n",
       "\n",
       "    .dataframe thead th {\n",
       "        text-align: right;\n",
       "    }\n",
       "</style>\n",
       "<table border=\"1\" class=\"dataframe\">\n",
       "  <thead>\n",
       "    <tr style=\"text-align: right;\">\n",
       "      <th></th>\n",
       "      <th>Survived</th>\n",
       "      <th>Pclass</th>\n",
       "      <th>Sex</th>\n",
       "      <th>Age</th>\n",
       "      <th>SibSp</th>\n",
       "      <th>Parch</th>\n",
       "      <th>Fare</th>\n",
       "      <th>Cabin</th>\n",
       "      <th>Embarked</th>\n",
       "    </tr>\n",
       "  </thead>\n",
       "  <tbody>\n",
       "    <tr>\n",
       "      <th>0</th>\n",
       "      <td>0</td>\n",
       "      <td>3</td>\n",
       "      <td>1</td>\n",
       "      <td>22.0</td>\n",
       "      <td>1</td>\n",
       "      <td>0</td>\n",
       "      <td>7.2500</td>\n",
       "      <td>8</td>\n",
       "      <td>2</td>\n",
       "    </tr>\n",
       "    <tr>\n",
       "      <th>1</th>\n",
       "      <td>1</td>\n",
       "      <td>1</td>\n",
       "      <td>0</td>\n",
       "      <td>38.0</td>\n",
       "      <td>1</td>\n",
       "      <td>0</td>\n",
       "      <td>71.2833</td>\n",
       "      <td>2</td>\n",
       "      <td>0</td>\n",
       "    </tr>\n",
       "    <tr>\n",
       "      <th>2</th>\n",
       "      <td>1</td>\n",
       "      <td>3</td>\n",
       "      <td>0</td>\n",
       "      <td>26.0</td>\n",
       "      <td>0</td>\n",
       "      <td>0</td>\n",
       "      <td>7.9250</td>\n",
       "      <td>8</td>\n",
       "      <td>2</td>\n",
       "    </tr>\n",
       "    <tr>\n",
       "      <th>3</th>\n",
       "      <td>1</td>\n",
       "      <td>1</td>\n",
       "      <td>0</td>\n",
       "      <td>35.0</td>\n",
       "      <td>1</td>\n",
       "      <td>0</td>\n",
       "      <td>53.1000</td>\n",
       "      <td>2</td>\n",
       "      <td>2</td>\n",
       "    </tr>\n",
       "    <tr>\n",
       "      <th>4</th>\n",
       "      <td>0</td>\n",
       "      <td>3</td>\n",
       "      <td>1</td>\n",
       "      <td>35.0</td>\n",
       "      <td>0</td>\n",
       "      <td>0</td>\n",
       "      <td>8.0500</td>\n",
       "      <td>8</td>\n",
       "      <td>2</td>\n",
       "    </tr>\n",
       "  </tbody>\n",
       "</table>\n",
       "</div>"
      ],
      "text/plain": [
       "   Survived  Pclass  Sex   Age  SibSp  Parch     Fare  Cabin  Embarked\n",
       "0         0       3    1  22.0      1      0   7.2500      8         2\n",
       "1         1       1    0  38.0      1      0  71.2833      2         0\n",
       "2         1       3    0  26.0      0      0   7.9250      8         2\n",
       "3         1       1    0  35.0      1      0  53.1000      2         2\n",
       "4         0       3    1  35.0      0      0   8.0500      8         2"
      ]
     },
     "execution_count": 12,
     "metadata": {},
     "output_type": "execute_result"
    }
   ],
   "source": [
    "train_data.head(5)"
   ]
  },
  {
   "cell_type": "code",
   "execution_count": 13,
   "metadata": {
    "execution": {
     "iopub.execute_input": "2022-03-26T22:45:53.377356Z",
     "iopub.status.busy": "2022-03-26T22:45:53.375996Z",
     "iopub.status.idle": "2022-03-26T22:45:53.383178Z",
     "shell.execute_reply": "2022-03-26T22:45:53.382368Z",
     "shell.execute_reply.started": "2022-03-26T22:45:04.660923Z"
    },
    "papermill": {
     "duration": 0.034212,
     "end_time": "2022-03-26T22:45:53.383311",
     "exception": false,
     "start_time": "2022-03-26T22:45:53.349099",
     "status": "completed"
    },
    "tags": []
   },
   "outputs": [],
   "source": [
    "from sklearn.linear_model import LogisticRegression\n",
    "from sklearn.model_selection import train_test_split\n",
    "\n",
    "\n",
    "y = train_data[\"Survived\"]\n",
    "X = train_data.drop(\"Survived\", axis=1)\n",
    "\n",
    "X_train, X_val, y_train, y_val = train_test_split(X, y, test_size = .2, random_state = 42)\n",
    "\n",
    "\n"
   ]
  },
  {
   "cell_type": "code",
   "execution_count": 14,
   "metadata": {
    "execution": {
     "iopub.execute_input": "2022-03-26T22:45:53.429326Z",
     "iopub.status.busy": "2022-03-26T22:45:53.428161Z",
     "iopub.status.idle": "2022-03-26T22:45:53.508948Z",
     "shell.execute_reply": "2022-03-26T22:45:53.508229Z",
     "shell.execute_reply.started": "2022-03-26T22:45:04.676715Z"
    },
    "papermill": {
     "duration": 0.10707,
     "end_time": "2022-03-26T22:45:53.509084",
     "exception": false,
     "start_time": "2022-03-26T22:45:53.402014",
     "status": "completed"
    },
    "tags": []
   },
   "outputs": [],
   "source": [
    "clf = LogisticRegression(random_state=0, max_iter = 1000).fit(X_train,y_train)"
   ]
  },
  {
   "cell_type": "code",
   "execution_count": 15,
   "metadata": {
    "execution": {
     "iopub.execute_input": "2022-03-26T22:45:53.556406Z",
     "iopub.status.busy": "2022-03-26T22:45:53.554826Z",
     "iopub.status.idle": "2022-03-26T22:45:53.560194Z",
     "shell.execute_reply": "2022-03-26T22:45:53.560780Z",
     "shell.execute_reply.started": "2022-03-26T22:45:04.730982Z"
    },
    "papermill": {
     "duration": 0.033118,
     "end_time": "2022-03-26T22:45:53.560934",
     "exception": false,
     "start_time": "2022-03-26T22:45:53.527816",
     "status": "completed"
    },
    "tags": []
   },
   "outputs": [
    {
     "data": {
      "text/plain": [
       "0.8212290502793296"
      ]
     },
     "execution_count": 15,
     "metadata": {},
     "output_type": "execute_result"
    }
   ],
   "source": [
    "from sklearn.metrics import accuracy_score\n",
    "\n",
    "predictions = clf.predict(X_val)\n",
    "\n",
    "accuracy_score(y_val, predictions)\n",
    "\n",
    "\n",
    "\n",
    "\n"
   ]
  },
  {
   "cell_type": "code",
   "execution_count": 16,
   "metadata": {
    "execution": {
     "iopub.execute_input": "2022-03-26T22:45:53.602471Z",
     "iopub.status.busy": "2022-03-26T22:45:53.601449Z",
     "iopub.status.idle": "2022-03-26T22:45:53.608429Z",
     "shell.execute_reply": "2022-03-26T22:45:53.609041Z",
     "shell.execute_reply.started": "2022-03-26T22:45:04.743969Z"
    },
    "papermill": {
     "duration": 0.029534,
     "end_time": "2022-03-26T22:45:53.609201",
     "exception": false,
     "start_time": "2022-03-26T22:45:53.579667",
     "status": "completed"
    },
    "tags": []
   },
   "outputs": [],
   "source": [
    "# Predict the test data\n",
    "\n",
    "submissions_preds = clf.predict(test_data)\n",
    "\n",
    "\n"
   ]
  },
  {
   "cell_type": "code",
   "execution_count": 17,
   "metadata": {
    "execution": {
     "iopub.execute_input": "2022-03-26T22:45:53.651620Z",
     "iopub.status.busy": "2022-03-26T22:45:53.650596Z",
     "iopub.status.idle": "2022-03-26T22:45:53.656296Z",
     "shell.execute_reply": "2022-03-26T22:45:53.656912Z",
     "shell.execute_reply.started": "2022-03-26T22:45:04.757281Z"
    },
    "papermill": {
     "duration": 0.0284,
     "end_time": "2022-03-26T22:45:53.657064",
     "exception": false,
     "start_time": "2022-03-26T22:45:53.628664",
     "status": "completed"
    },
    "tags": []
   },
   "outputs": [],
   "source": [
    "\n",
    "# making the submissions data frame\n",
    "\n",
    "df = pd.DataFrame({'PassengerId':test_ids.values,\n",
    "                 \"Survived\":submissions_preds})\n",
    "\n",
    "\n"
   ]
  },
  {
   "cell_type": "code",
   "execution_count": 18,
   "metadata": {
    "execution": {
     "iopub.execute_input": "2022-03-26T22:45:53.699664Z",
     "iopub.status.busy": "2022-03-26T22:45:53.698657Z",
     "iopub.status.idle": "2022-03-26T22:45:53.702685Z",
     "shell.execute_reply": "2022-03-26T22:45:53.703349Z",
     "shell.execute_reply.started": "2022-03-26T22:45:04.772389Z"
    },
    "papermill": {
     "duration": 0.027164,
     "end_time": "2022-03-26T22:45:53.703493",
     "exception": false,
     "start_time": "2022-03-26T22:45:53.676329",
     "status": "completed"
    },
    "tags": []
   },
   "outputs": [],
   "source": [
    "# df.to_csv(\"submissionsSE.csv\", index = False)"
   ]
  },
  {
   "cell_type": "code",
   "execution_count": null,
   "metadata": {
    "papermill": {
     "duration": 0.018286,
     "end_time": "2022-03-26T22:45:53.740536",
     "exception": false,
     "start_time": "2022-03-26T22:45:53.722250",
     "status": "completed"
    },
    "tags": []
   },
   "outputs": [],
   "source": []
  }
 ],
 "metadata": {
  "kernelspec": {
   "display_name": "Python 3",
   "language": "python",
   "name": "python3"
  },
  "language_info": {
   "codemirror_mode": {
    "name": "ipython",
    "version": 3
   },
   "file_extension": ".py",
   "mimetype": "text/x-python",
   "name": "python",
   "nbconvert_exporter": "python",
   "pygments_lexer": "ipython3",
   "version": "3.7.6"
  },
  "papermill": {
   "duration": 7.343484,
   "end_time": "2022-03-26T22:45:53.868211",
   "environment_variables": {},
   "exception": null,
   "input_path": "__notebook__.ipynb",
   "output_path": "__notebook__.ipynb",
   "parameters": {},
   "start_time": "2022-03-26T22:45:46.524727",
   "version": "2.1.0"
  }
 },
 "nbformat": 4,
 "nbformat_minor": 4
}
