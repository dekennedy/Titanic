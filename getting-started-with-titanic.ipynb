{
 "cells": [
  {
   "cell_type": "code",
   "execution_count": 1,
   "metadata": {
    "_cell_guid": "b1076dfc-b9ad-4769-8c92-a6c4dae69d19",
    "_uuid": "8f2839f25d086af736a60e9eeb907d3b93b6e0e5",
    "execution": {
     "iopub.execute_input": "2022-03-25T22:56:27.554987Z",
     "iopub.status.busy": "2022-03-25T22:56:27.554182Z",
     "iopub.status.idle": "2022-03-25T22:56:27.560021Z",
     "shell.execute_reply": "2022-03-25T22:56:27.560779Z",
     "shell.execute_reply.started": "2022-03-25T22:44:57.796889Z"
    },
    "papermill": {
     "duration": 0.034053,
     "end_time": "2022-03-25T22:56:27.561111",
     "exception": false,
     "start_time": "2022-03-25T22:56:27.527058",
     "status": "completed"
    },
    "tags": []
   },
   "outputs": [
    {
     "name": "stdout",
     "output_type": "stream",
     "text": [
      "/kaggle/input/titanic/train.csv\n",
      "/kaggle/input/titanic/test.csv\n",
      "/kaggle/input/titanic/gender_submission.csv\n"
     ]
    }
   ],
   "source": [
    "# This Python 3 environment comes with many helpful analytics libraries installed\n",
    "# It is defined by the kaggle/python Docker image: https://github.com/kaggle/docker-python\n",
    "# For example, here's several helpful packages to load\n",
    "\n",
    "import numpy as np # linear algebra\n",
    "import pandas as pd # data processing, CSV file I/O (e.g. pd.read_csv)\n",
    "\n",
    "# Input data files are available in the read-only \"../input/\" directory\n",
    "# For example, running this (by clicking run or pressing Shift+Enter) will list all files under the input directory\n",
    "\n",
    "import os\n",
    "for dirname, _, filenames in os.walk('/kaggle/input'):\n",
    "    for filename in filenames:\n",
    "        print(os.path.join(dirname, filename))\n",
    "\n",
    "# You can write up to 20GB to the current directory (/kaggle/working/) that gets preserved as output when you create a version using \"Save & Run All\" \n",
    "# You can also write temporary files to /kaggle/temp/, but they won't be saved outside of the current session"
   ]
  },
  {
   "cell_type": "code",
   "execution_count": 2,
   "metadata": {
    "_cell_guid": "79c7e3d0-c299-4dcb-8224-4455121ee9b0",
    "_uuid": "d629ff2d2480ee46fbb7e2d37f6b5fab8052498a",
    "execution": {
     "iopub.execute_input": "2022-03-25T22:56:27.601399Z",
     "iopub.status.busy": "2022-03-25T22:56:27.600524Z",
     "iopub.status.idle": "2022-03-25T22:56:27.654511Z",
     "shell.execute_reply": "2022-03-25T22:56:27.655166Z",
     "shell.execute_reply.started": "2022-03-25T22:55:07.593816Z"
    },
    "papermill": {
     "duration": 0.07788,
     "end_time": "2022-03-25T22:56:27.655357",
     "exception": false,
     "start_time": "2022-03-25T22:56:27.577477",
     "status": "completed"
    },
    "tags": []
   },
   "outputs": [
    {
     "data": {
      "text/html": [
       "<div>\n",
       "<style scoped>\n",
       "    .dataframe tbody tr th:only-of-type {\n",
       "        vertical-align: middle;\n",
       "    }\n",
       "\n",
       "    .dataframe tbody tr th {\n",
       "        vertical-align: top;\n",
       "    }\n",
       "\n",
       "    .dataframe thead th {\n",
       "        text-align: right;\n",
       "    }\n",
       "</style>\n",
       "<table border=\"1\" class=\"dataframe\">\n",
       "  <thead>\n",
       "    <tr style=\"text-align: right;\">\n",
       "      <th></th>\n",
       "      <th>PassengerId</th>\n",
       "      <th>Survived</th>\n",
       "      <th>Pclass</th>\n",
       "      <th>Name</th>\n",
       "      <th>Sex</th>\n",
       "      <th>Age</th>\n",
       "      <th>SibSp</th>\n",
       "      <th>Parch</th>\n",
       "      <th>Ticket</th>\n",
       "      <th>Fare</th>\n",
       "      <th>Cabin</th>\n",
       "      <th>Embarked</th>\n",
       "    </tr>\n",
       "  </thead>\n",
       "  <tbody>\n",
       "    <tr>\n",
       "      <th>0</th>\n",
       "      <td>1</td>\n",
       "      <td>0</td>\n",
       "      <td>3</td>\n",
       "      <td>Braund, Mr. Owen Harris</td>\n",
       "      <td>male</td>\n",
       "      <td>22.0</td>\n",
       "      <td>1</td>\n",
       "      <td>0</td>\n",
       "      <td>A/5 21171</td>\n",
       "      <td>7.2500</td>\n",
       "      <td>NaN</td>\n",
       "      <td>S</td>\n",
       "    </tr>\n",
       "    <tr>\n",
       "      <th>1</th>\n",
       "      <td>2</td>\n",
       "      <td>1</td>\n",
       "      <td>1</td>\n",
       "      <td>Cumings, Mrs. John Bradley (Florence Briggs Th...</td>\n",
       "      <td>female</td>\n",
       "      <td>38.0</td>\n",
       "      <td>1</td>\n",
       "      <td>0</td>\n",
       "      <td>PC 17599</td>\n",
       "      <td>71.2833</td>\n",
       "      <td>C85</td>\n",
       "      <td>C</td>\n",
       "    </tr>\n",
       "    <tr>\n",
       "      <th>2</th>\n",
       "      <td>3</td>\n",
       "      <td>1</td>\n",
       "      <td>3</td>\n",
       "      <td>Heikkinen, Miss. Laina</td>\n",
       "      <td>female</td>\n",
       "      <td>26.0</td>\n",
       "      <td>0</td>\n",
       "      <td>0</td>\n",
       "      <td>STON/O2. 3101282</td>\n",
       "      <td>7.9250</td>\n",
       "      <td>NaN</td>\n",
       "      <td>S</td>\n",
       "    </tr>\n",
       "    <tr>\n",
       "      <th>3</th>\n",
       "      <td>4</td>\n",
       "      <td>1</td>\n",
       "      <td>1</td>\n",
       "      <td>Futrelle, Mrs. Jacques Heath (Lily May Peel)</td>\n",
       "      <td>female</td>\n",
       "      <td>35.0</td>\n",
       "      <td>1</td>\n",
       "      <td>0</td>\n",
       "      <td>113803</td>\n",
       "      <td>53.1000</td>\n",
       "      <td>C123</td>\n",
       "      <td>S</td>\n",
       "    </tr>\n",
       "    <tr>\n",
       "      <th>4</th>\n",
       "      <td>5</td>\n",
       "      <td>0</td>\n",
       "      <td>3</td>\n",
       "      <td>Allen, Mr. William Henry</td>\n",
       "      <td>male</td>\n",
       "      <td>35.0</td>\n",
       "      <td>0</td>\n",
       "      <td>0</td>\n",
       "      <td>373450</td>\n",
       "      <td>8.0500</td>\n",
       "      <td>NaN</td>\n",
       "      <td>S</td>\n",
       "    </tr>\n",
       "  </tbody>\n",
       "</table>\n",
       "</div>"
      ],
      "text/plain": [
       "   PassengerId  Survived  Pclass  \\\n",
       "0            1         0       3   \n",
       "1            2         1       1   \n",
       "2            3         1       3   \n",
       "3            4         1       1   \n",
       "4            5         0       3   \n",
       "\n",
       "                                                Name     Sex   Age  SibSp  \\\n",
       "0                            Braund, Mr. Owen Harris    male  22.0      1   \n",
       "1  Cumings, Mrs. John Bradley (Florence Briggs Th...  female  38.0      1   \n",
       "2                             Heikkinen, Miss. Laina  female  26.0      0   \n",
       "3       Futrelle, Mrs. Jacques Heath (Lily May Peel)  female  35.0      1   \n",
       "4                           Allen, Mr. William Henry    male  35.0      0   \n",
       "\n",
       "   Parch            Ticket     Fare Cabin Embarked  \n",
       "0      0         A/5 21171   7.2500   NaN        S  \n",
       "1      0          PC 17599  71.2833   C85        C  \n",
       "2      0  STON/O2. 3101282   7.9250   NaN        S  \n",
       "3      0            113803  53.1000  C123        S  \n",
       "4      0            373450   8.0500   NaN        S  "
      ]
     },
     "execution_count": 2,
     "metadata": {},
     "output_type": "execute_result"
    }
   ],
   "source": [
    "train_data = pd.read_csv('/kaggle/input/titanic/train.csv')\n",
    "\n",
    "train_data.head()\n",
    "\n",
    "\n",
    "\n",
    "\n"
   ]
  },
  {
   "cell_type": "code",
   "execution_count": 3,
   "metadata": {
    "execution": {
     "iopub.execute_input": "2022-03-25T22:56:27.696110Z",
     "iopub.status.busy": "2022-03-25T22:56:27.695137Z",
     "iopub.status.idle": "2022-03-25T22:56:27.706629Z",
     "shell.execute_reply": "2022-03-25T22:56:27.705774Z",
     "shell.execute_reply.started": "2022-03-25T22:55:10.752501Z"
    },
    "papermill": {
     "duration": 0.035383,
     "end_time": "2022-03-25T22:56:27.706823",
     "exception": false,
     "start_time": "2022-03-25T22:56:27.671440",
     "status": "completed"
    },
    "tags": []
   },
   "outputs": [],
   "source": [
    "test_data = pd.read_csv(\"/kaggle/input/titanic/test.csv\")\n",
    "test_data.head()\n",
    "\n",
    "test_ids = test_data[\"PassengerId\"]\n"
   ]
  },
  {
   "cell_type": "code",
   "execution_count": 4,
   "metadata": {
    "execution": {
     "iopub.execute_input": "2022-03-25T22:56:27.751371Z",
     "iopub.status.busy": "2022-03-25T22:56:27.750197Z",
     "iopub.status.idle": "2022-03-25T22:56:27.754758Z",
     "shell.execute_reply": "2022-03-25T22:56:27.754070Z",
     "shell.execute_reply.started": "2022-03-25T22:44:57.862239Z"
    },
    "papermill": {
     "duration": 0.032114,
     "end_time": "2022-03-25T22:56:27.754893",
     "exception": false,
     "start_time": "2022-03-25T22:56:27.722779",
     "status": "completed"
    },
    "tags": []
   },
   "outputs": [
    {
     "name": "stdout",
     "output_type": "stream",
     "text": [
      "% of women who survived: 0.7420382165605095\n"
     ]
    }
   ],
   "source": [
    "women = train_data.loc[train_data.Sex == 'female'][\"Survived\"]\n",
    "rate_women = sum(women)/len(women)\n",
    "\n",
    "\n",
    "\n",
    "print(\"% of women who survived:\", rate_women)\n"
   ]
  },
  {
   "cell_type": "code",
   "execution_count": 5,
   "metadata": {
    "execution": {
     "iopub.execute_input": "2022-03-25T22:56:27.795330Z",
     "iopub.status.busy": "2022-03-25T22:56:27.794472Z",
     "iopub.status.idle": "2022-03-25T22:56:29.110308Z",
     "shell.execute_reply": "2022-03-25T22:56:29.111119Z",
     "shell.execute_reply.started": "2022-03-25T22:44:57.875565Z"
    },
    "papermill": {
     "duration": 1.340265,
     "end_time": "2022-03-25T22:56:29.111317",
     "exception": false,
     "start_time": "2022-03-25T22:56:27.771052",
     "status": "completed"
    },
    "tags": []
   },
   "outputs": [],
   "source": [
    "from sklearn.impute import SimpleImputer\n",
    "\n",
    "X = train_data[['Pclass', 'Fare']]\n",
    "Y = train_data['Survived']\n",
    "\n",
    "\n",
    "\n",
    "X_test = test_data[['Pclass', 'Fare']]\n",
    "\n",
    "my_imputer = SimpleImputer()\n",
    "X_test = my_imputer.fit_transform(X_test)\n",
    "\n",
    "\n"
   ]
  },
  {
   "cell_type": "code",
   "execution_count": 6,
   "metadata": {
    "execution": {
     "iopub.execute_input": "2022-03-25T22:56:29.154576Z",
     "iopub.status.busy": "2022-03-25T22:56:29.153496Z",
     "iopub.status.idle": "2022-03-25T22:56:29.196339Z",
     "shell.execute_reply": "2022-03-25T22:56:29.196891Z",
     "shell.execute_reply.started": "2022-03-25T22:44:57.900752Z"
    },
    "papermill": {
     "duration": 0.066898,
     "end_time": "2022-03-25T22:56:29.197120",
     "exception": false,
     "start_time": "2022-03-25T22:56:29.130222",
     "status": "completed"
    },
    "tags": []
   },
   "outputs": [
    {
     "name": "stdout",
     "output_type": "stream",
     "text": [
      "[0 0 0 0 1 0 0 1 0 0 0 0 0 1 0 0 1 0 0 0 1 0 0 0 1 0 0 0 1 0 1 1 0 0 1 0 0\n",
      " 0 0 1 1 1 0 0 1 0 0 0 1 1 1 0 1 0 1 0 0 0 0 1 0 0 0 0 1 0 1 0 0 0 0 0 0 0\n",
      " 0 0 0 0 0 0 1 0 0 0 0 0 1 0 0 1 0 0 0 0 0 0 0 0 0 0 1 1 0 0 1 0 0 0 0 0 0\n",
      " 0 0 0 0 0 0 1 1 1 1 0 1 0 0 0 0 1 0 0 0 0 0 0 0 0 0 0 0 0 0 0 1 1 1 0 0 0\n",
      " 1 1 1 0 0 1 1 0 0 0 1 0 0 1 0 0 0 1 0 0 0 0 0 0 0 0 1 1 0 1 1 1 0 1 1 0 0\n",
      " 1 0 0 0 0 1 0 0 1 1 0 1 0 0 1 0 0 1 1 0 0 0 0 0 0 0 0 0 1 0 0 1 1 0 0 1 0\n",
      " 0 0 0 1 0 0 0 0 1 1 0 1 1 0 1 0 0 0 0 1 1 0 0 0 0 1 1 0 1 0 1 0 0 0 0 0 0\n",
      " 0 1 0 1 1 1 0 0 0 0 0 1 0 1 0 0 1 0 1 0 0 0 0 0 1 0 0 0 0 0 0 0 0 0 1 0 0\n",
      " 1 0 0 0 0 0 0 0 0 1 0 0 1 0 0 0 0 0 1 0 1 0 0 1 0 0 0 1 1 0 1 0 1 0 0 0 0\n",
      " 1 0 0 0 0 1 0 0 0 0 1 0 0 0 0 0 0 1 0 0 1 0 0 1 1 0 0 0 0 0 0 1 0 0 0 1 1\n",
      " 0 1 0 0 1 1 0 0 0 1 0 1 0 0 0 1 0 0 0 0 1 1 0 0 1 1 0 0 0 0 1 0 1 0 0 1 0\n",
      " 0 0 0 0 1 0 0 0 0 0 1]\n"
     ]
    }
   ],
   "source": [
    "from sklearn import tree\n",
    "\n",
    "clf = tree.DecisionTreeClassifier()\n",
    "\n",
    "\n",
    "clf = clf.fit(X, Y)\n",
    "\n",
    "prediction = clf.predict(X_test)\n",
    "\n",
    "print(prediction)"
   ]
  },
  {
   "cell_type": "code",
   "execution_count": 7,
   "metadata": {
    "execution": {
     "iopub.execute_input": "2022-03-25T22:56:29.237694Z",
     "iopub.status.busy": "2022-03-25T22:56:29.236325Z",
     "iopub.status.idle": "2022-03-25T22:56:29.633340Z",
     "shell.execute_reply": "2022-03-25T22:56:29.632553Z",
     "shell.execute_reply.started": "2022-03-25T22:44:57.918577Z"
    },
    "papermill": {
     "duration": 0.419233,
     "end_time": "2022-03-25T22:56:29.633494",
     "exception": false,
     "start_time": "2022-03-25T22:56:29.214261",
     "status": "completed"
    },
    "tags": []
   },
   "outputs": [],
   "source": [
    "submission = pd.DataFrame({\n",
    "    'PassengerId': test_data['PassengerId'],\n",
    "    'Survived': prediction\n",
    "})\n",
    "\n",
    "submission.to_csv('titanic_using_DTC.csv', index=False)\n",
    "\n",
    "\n",
    "\n"
   ]
  },
  {
   "cell_type": "code",
   "execution_count": 8,
   "metadata": {
    "execution": {
     "iopub.execute_input": "2022-03-25T22:56:29.686039Z",
     "iopub.status.busy": "2022-03-25T22:56:29.684933Z",
     "iopub.status.idle": "2022-03-25T22:56:29.689302Z",
     "shell.execute_reply": "2022-03-25T22:56:29.689760Z",
     "shell.execute_reply.started": "2022-03-25T22:44:57.927872Z"
    },
    "papermill": {
     "duration": 0.039443,
     "end_time": "2022-03-25T22:56:29.689911",
     "exception": false,
     "start_time": "2022-03-25T22:56:29.650468",
     "status": "completed"
    },
    "tags": []
   },
   "outputs": [
    {
     "data": {
      "text/html": [
       "<div>\n",
       "<style scoped>\n",
       "    .dataframe tbody tr th:only-of-type {\n",
       "        vertical-align: middle;\n",
       "    }\n",
       "\n",
       "    .dataframe tbody tr th {\n",
       "        vertical-align: top;\n",
       "    }\n",
       "\n",
       "    .dataframe thead th {\n",
       "        text-align: right;\n",
       "    }\n",
       "</style>\n",
       "<table border=\"1\" class=\"dataframe\">\n",
       "  <thead>\n",
       "    <tr style=\"text-align: right;\">\n",
       "      <th></th>\n",
       "      <th>PassengerId</th>\n",
       "      <th>Survived</th>\n",
       "      <th>Pclass</th>\n",
       "      <th>Name</th>\n",
       "      <th>Sex</th>\n",
       "      <th>Age</th>\n",
       "      <th>SibSp</th>\n",
       "      <th>Parch</th>\n",
       "      <th>Ticket</th>\n",
       "      <th>Fare</th>\n",
       "      <th>Cabin</th>\n",
       "      <th>Embarked</th>\n",
       "    </tr>\n",
       "  </thead>\n",
       "  <tbody>\n",
       "    <tr>\n",
       "      <th>0</th>\n",
       "      <td>1</td>\n",
       "      <td>0</td>\n",
       "      <td>3</td>\n",
       "      <td>Braund, Mr. Owen Harris</td>\n",
       "      <td>male</td>\n",
       "      <td>22.0</td>\n",
       "      <td>1</td>\n",
       "      <td>0</td>\n",
       "      <td>A/5 21171</td>\n",
       "      <td>7.2500</td>\n",
       "      <td>NaN</td>\n",
       "      <td>S</td>\n",
       "    </tr>\n",
       "    <tr>\n",
       "      <th>1</th>\n",
       "      <td>2</td>\n",
       "      <td>1</td>\n",
       "      <td>1</td>\n",
       "      <td>Cumings, Mrs. John Bradley (Florence Briggs Th...</td>\n",
       "      <td>female</td>\n",
       "      <td>38.0</td>\n",
       "      <td>1</td>\n",
       "      <td>0</td>\n",
       "      <td>PC 17599</td>\n",
       "      <td>71.2833</td>\n",
       "      <td>C85</td>\n",
       "      <td>C</td>\n",
       "    </tr>\n",
       "    <tr>\n",
       "      <th>2</th>\n",
       "      <td>3</td>\n",
       "      <td>1</td>\n",
       "      <td>3</td>\n",
       "      <td>Heikkinen, Miss. Laina</td>\n",
       "      <td>female</td>\n",
       "      <td>26.0</td>\n",
       "      <td>0</td>\n",
       "      <td>0</td>\n",
       "      <td>STON/O2. 3101282</td>\n",
       "      <td>7.9250</td>\n",
       "      <td>NaN</td>\n",
       "      <td>S</td>\n",
       "    </tr>\n",
       "    <tr>\n",
       "      <th>3</th>\n",
       "      <td>4</td>\n",
       "      <td>1</td>\n",
       "      <td>1</td>\n",
       "      <td>Futrelle, Mrs. Jacques Heath (Lily May Peel)</td>\n",
       "      <td>female</td>\n",
       "      <td>35.0</td>\n",
       "      <td>1</td>\n",
       "      <td>0</td>\n",
       "      <td>113803</td>\n",
       "      <td>53.1000</td>\n",
       "      <td>C123</td>\n",
       "      <td>S</td>\n",
       "    </tr>\n",
       "    <tr>\n",
       "      <th>4</th>\n",
       "      <td>5</td>\n",
       "      <td>0</td>\n",
       "      <td>3</td>\n",
       "      <td>Allen, Mr. William Henry</td>\n",
       "      <td>male</td>\n",
       "      <td>35.0</td>\n",
       "      <td>0</td>\n",
       "      <td>0</td>\n",
       "      <td>373450</td>\n",
       "      <td>8.0500</td>\n",
       "      <td>NaN</td>\n",
       "      <td>S</td>\n",
       "    </tr>\n",
       "  </tbody>\n",
       "</table>\n",
       "</div>"
      ],
      "text/plain": [
       "   PassengerId  Survived  Pclass  \\\n",
       "0            1         0       3   \n",
       "1            2         1       1   \n",
       "2            3         1       3   \n",
       "3            4         1       1   \n",
       "4            5         0       3   \n",
       "\n",
       "                                                Name     Sex   Age  SibSp  \\\n",
       "0                            Braund, Mr. Owen Harris    male  22.0      1   \n",
       "1  Cumings, Mrs. John Bradley (Florence Briggs Th...  female  38.0      1   \n",
       "2                             Heikkinen, Miss. Laina  female  26.0      0   \n",
       "3       Futrelle, Mrs. Jacques Heath (Lily May Peel)  female  35.0      1   \n",
       "4                           Allen, Mr. William Henry    male  35.0      0   \n",
       "\n",
       "   Parch            Ticket     Fare Cabin Embarked  \n",
       "0      0         A/5 21171   7.2500   NaN        S  \n",
       "1      0          PC 17599  71.2833   C85        C  \n",
       "2      0  STON/O2. 3101282   7.9250   NaN        S  \n",
       "3      0            113803  53.1000  C123        S  \n",
       "4      0            373450   8.0500   NaN        S  "
      ]
     },
     "execution_count": 8,
     "metadata": {},
     "output_type": "execute_result"
    }
   ],
   "source": [
    "train_data.head()\n",
    "\n",
    "# train_data.Cabin.fillna('U', inplace=True)\n",
    "# train_data['Cabin'] = train_data['Cabin'].astype(str).str[0]\n",
    "# train_data.Cabin.unique"
   ]
  },
  {
   "cell_type": "code",
   "execution_count": 9,
   "metadata": {
    "execution": {
     "iopub.execute_input": "2022-03-25T22:56:29.739202Z",
     "iopub.status.busy": "2022-03-25T22:56:29.731692Z",
     "iopub.status.idle": "2022-03-25T22:56:29.777948Z",
     "shell.execute_reply": "2022-03-25T22:56:29.778558Z",
     "shell.execute_reply.started": "2022-03-25T22:55:17.561868Z"
    },
    "papermill": {
     "duration": 0.072243,
     "end_time": "2022-03-25T22:56:29.778725",
     "exception": false,
     "start_time": "2022-03-25T22:56:29.706482",
     "status": "completed"
    },
    "tags": []
   },
   "outputs": [],
   "source": [
    "from sklearn import preprocessing\n",
    "le = preprocessing.LabelEncoder()\n",
    "\n",
    "\n",
    "#function to clean the data \n",
    "# easy for train test split\n",
    "\n",
    "def clean(data):\n",
    "    data = data.drop(['Ticket','PassengerId', \"Name\"], axis =1)\n",
    "    \n",
    "    \n",
    "    # fill list of cols with the median value\n",
    "    cols= [\"SibSp\", \"Parch\", \"Fare\", \"Age\"]\n",
    "    for col in cols:\n",
    "        data[col].fillna(data[col].median(), inplace=True)\n",
    "        \n",
    "    #fill Embarked with U for Unknown    \n",
    "    data.Embarked.fillna('U', inplace=True)\n",
    "    \n",
    "    #fill Cabin with U for Unknown    \n",
    "    data.Cabin.fillna('U', inplace=True)\n",
    "    data['Cabin'] = train_data['Cabin'].astype(str).str[0]\n",
    "    \n",
    "    \n",
    "    #map string columns\n",
    "    \n",
    "    cols_to_map = ['Sex', 'Embarked', 'Cabin']\n",
    "    for col in cols_to_map:\n",
    "        data[col] = le.fit_transform(data[col])\n",
    "        \n",
    "    data['CombineSexEmb'] = (data['Sex'].astype(str) + data['Embarked'].astype(str))\n",
    "        \n",
    "    return data\n",
    "\n",
    "train_data = clean(train_data)\n",
    "test_data = clean(test_data)\n",
    "\n",
    " \n",
    "\n",
    "    \n",
    "    \n",
    "    \n",
    "\n",
    "\n"
   ]
  },
  {
   "cell_type": "code",
   "execution_count": 10,
   "metadata": {
    "execution": {
     "iopub.execute_input": "2022-03-25T22:56:29.815786Z",
     "iopub.status.busy": "2022-03-25T22:56:29.815140Z",
     "iopub.status.idle": "2022-03-25T22:56:29.829539Z",
     "shell.execute_reply": "2022-03-25T22:56:29.830112Z",
     "shell.execute_reply.started": "2022-03-25T22:55:20.376774Z"
    },
    "papermill": {
     "duration": 0.034766,
     "end_time": "2022-03-25T22:56:29.830272",
     "exception": false,
     "start_time": "2022-03-25T22:56:29.795506",
     "status": "completed"
    },
    "tags": []
   },
   "outputs": [
    {
     "data": {
      "text/html": [
       "<div>\n",
       "<style scoped>\n",
       "    .dataframe tbody tr th:only-of-type {\n",
       "        vertical-align: middle;\n",
       "    }\n",
       "\n",
       "    .dataframe tbody tr th {\n",
       "        vertical-align: top;\n",
       "    }\n",
       "\n",
       "    .dataframe thead th {\n",
       "        text-align: right;\n",
       "    }\n",
       "</style>\n",
       "<table border=\"1\" class=\"dataframe\">\n",
       "  <thead>\n",
       "    <tr style=\"text-align: right;\">\n",
       "      <th></th>\n",
       "      <th>Survived</th>\n",
       "      <th>Pclass</th>\n",
       "      <th>Sex</th>\n",
       "      <th>Age</th>\n",
       "      <th>SibSp</th>\n",
       "      <th>Parch</th>\n",
       "      <th>Fare</th>\n",
       "      <th>Cabin</th>\n",
       "      <th>Embarked</th>\n",
       "      <th>CombineSexEmb</th>\n",
       "    </tr>\n",
       "  </thead>\n",
       "  <tbody>\n",
       "    <tr>\n",
       "      <th>0</th>\n",
       "      <td>0</td>\n",
       "      <td>3</td>\n",
       "      <td>1</td>\n",
       "      <td>22.0</td>\n",
       "      <td>1</td>\n",
       "      <td>0</td>\n",
       "      <td>7.2500</td>\n",
       "      <td>8</td>\n",
       "      <td>2</td>\n",
       "      <td>12</td>\n",
       "    </tr>\n",
       "    <tr>\n",
       "      <th>1</th>\n",
       "      <td>1</td>\n",
       "      <td>1</td>\n",
       "      <td>0</td>\n",
       "      <td>38.0</td>\n",
       "      <td>1</td>\n",
       "      <td>0</td>\n",
       "      <td>71.2833</td>\n",
       "      <td>2</td>\n",
       "      <td>0</td>\n",
       "      <td>00</td>\n",
       "    </tr>\n",
       "    <tr>\n",
       "      <th>2</th>\n",
       "      <td>1</td>\n",
       "      <td>3</td>\n",
       "      <td>0</td>\n",
       "      <td>26.0</td>\n",
       "      <td>0</td>\n",
       "      <td>0</td>\n",
       "      <td>7.9250</td>\n",
       "      <td>8</td>\n",
       "      <td>2</td>\n",
       "      <td>02</td>\n",
       "    </tr>\n",
       "    <tr>\n",
       "      <th>3</th>\n",
       "      <td>1</td>\n",
       "      <td>1</td>\n",
       "      <td>0</td>\n",
       "      <td>35.0</td>\n",
       "      <td>1</td>\n",
       "      <td>0</td>\n",
       "      <td>53.1000</td>\n",
       "      <td>2</td>\n",
       "      <td>2</td>\n",
       "      <td>02</td>\n",
       "    </tr>\n",
       "    <tr>\n",
       "      <th>4</th>\n",
       "      <td>0</td>\n",
       "      <td>3</td>\n",
       "      <td>1</td>\n",
       "      <td>35.0</td>\n",
       "      <td>0</td>\n",
       "      <td>0</td>\n",
       "      <td>8.0500</td>\n",
       "      <td>8</td>\n",
       "      <td>2</td>\n",
       "      <td>12</td>\n",
       "    </tr>\n",
       "  </tbody>\n",
       "</table>\n",
       "</div>"
      ],
      "text/plain": [
       "   Survived  Pclass  Sex   Age  SibSp  Parch     Fare  Cabin  Embarked  \\\n",
       "0         0       3    1  22.0      1      0   7.2500      8         2   \n",
       "1         1       1    0  38.0      1      0  71.2833      2         0   \n",
       "2         1       3    0  26.0      0      0   7.9250      8         2   \n",
       "3         1       1    0  35.0      1      0  53.1000      2         2   \n",
       "4         0       3    1  35.0      0      0   8.0500      8         2   \n",
       "\n",
       "  CombineSexEmb  \n",
       "0            12  \n",
       "1            00  \n",
       "2            02  \n",
       "3            02  \n",
       "4            12  "
      ]
     },
     "execution_count": 10,
     "metadata": {},
     "output_type": "execute_result"
    }
   ],
   "source": [
    "train_data.head(5)"
   ]
  },
  {
   "cell_type": "code",
   "execution_count": 11,
   "metadata": {
    "execution": {
     "iopub.execute_input": "2022-03-25T22:56:29.869288Z",
     "iopub.status.busy": "2022-03-25T22:56:29.868622Z",
     "iopub.status.idle": "2022-03-25T22:56:29.878324Z",
     "shell.execute_reply": "2022-03-25T22:56:29.878935Z",
     "shell.execute_reply.started": "2022-03-25T22:55:32.248655Z"
    },
    "papermill": {
     "duration": 0.030791,
     "end_time": "2022-03-25T22:56:29.879105",
     "exception": false,
     "start_time": "2022-03-25T22:56:29.848314",
     "status": "completed"
    },
    "tags": []
   },
   "outputs": [],
   "source": [
    "from sklearn.linear_model import LogisticRegression\n",
    "from sklearn.model_selection import train_test_split\n",
    "\n",
    "y = train_data[\"Survived\"]\n",
    "X = train_data.drop(\"Survived\", axis=1)\n",
    "\n",
    "X_train, X_val, y_train, y_val = train_test_split(X, y, test_size = .2, random_state = 42)\n",
    "\n",
    "\n"
   ]
  },
  {
   "cell_type": "code",
   "execution_count": 12,
   "metadata": {
    "execution": {
     "iopub.execute_input": "2022-03-25T22:56:29.917279Z",
     "iopub.status.busy": "2022-03-25T22:56:29.916607Z",
     "iopub.status.idle": "2022-03-25T22:56:29.977864Z",
     "shell.execute_reply": "2022-03-25T22:56:29.978569Z",
     "shell.execute_reply.started": "2022-03-25T22:55:36.575772Z"
    },
    "papermill": {
     "duration": 0.082184,
     "end_time": "2022-03-25T22:56:29.978760",
     "exception": false,
     "start_time": "2022-03-25T22:56:29.896576",
     "status": "completed"
    },
    "tags": []
   },
   "outputs": [],
   "source": [
    "clf = LogisticRegression(random_state=0, max_iter = 1000).fit(X_train,y_train)"
   ]
  },
  {
   "cell_type": "code",
   "execution_count": 13,
   "metadata": {
    "execution": {
     "iopub.execute_input": "2022-03-25T22:56:30.021941Z",
     "iopub.status.busy": "2022-03-25T22:56:30.020941Z",
     "iopub.status.idle": "2022-03-25T22:56:30.031379Z",
     "shell.execute_reply": "2022-03-25T22:56:30.031980Z",
     "shell.execute_reply.started": "2022-03-25T22:55:41.365615Z"
    },
    "papermill": {
     "duration": 0.031708,
     "end_time": "2022-03-25T22:56:30.032139",
     "exception": false,
     "start_time": "2022-03-25T22:56:30.000431",
     "status": "completed"
    },
    "tags": []
   },
   "outputs": [
    {
     "data": {
      "text/plain": [
       "0.8212290502793296"
      ]
     },
     "execution_count": 13,
     "metadata": {},
     "output_type": "execute_result"
    }
   ],
   "source": [
    "from sklearn.metrics import accuracy_score\n",
    "\n",
    "predictions = clf.predict(X_val)\n",
    "\n",
    "accuracy_score(y_val, predictions)\n",
    "\n",
    "\n",
    "\n",
    "\n"
   ]
  },
  {
   "cell_type": "code",
   "execution_count": 14,
   "metadata": {
    "execution": {
     "iopub.execute_input": "2022-03-25T22:56:30.071330Z",
     "iopub.status.busy": "2022-03-25T22:56:30.070330Z",
     "iopub.status.idle": "2022-03-25T22:56:30.077912Z",
     "shell.execute_reply": "2022-03-25T22:56:30.078518Z",
     "shell.execute_reply.started": "2022-03-25T22:55:51.115964Z"
    },
    "papermill": {
     "duration": 0.02889,
     "end_time": "2022-03-25T22:56:30.078666",
     "exception": false,
     "start_time": "2022-03-25T22:56:30.049776",
     "status": "completed"
    },
    "tags": []
   },
   "outputs": [],
   "source": [
    "submissions_preds = clf.predict(test_data)\n",
    "\n",
    "\n"
   ]
  },
  {
   "cell_type": "code",
   "execution_count": 15,
   "metadata": {
    "execution": {
     "iopub.execute_input": "2022-03-25T22:56:30.117472Z",
     "iopub.status.busy": "2022-03-25T22:56:30.116474Z",
     "iopub.status.idle": "2022-03-25T22:56:30.122040Z",
     "shell.execute_reply": "2022-03-25T22:56:30.122559Z",
     "shell.execute_reply.started": "2022-03-25T22:55:53.084225Z"
    },
    "papermill": {
     "duration": 0.026541,
     "end_time": "2022-03-25T22:56:30.122706",
     "exception": false,
     "start_time": "2022-03-25T22:56:30.096165",
     "status": "completed"
    },
    "tags": []
   },
   "outputs": [],
   "source": [
    "\n",
    "# making the submissions data frame\n",
    "\n",
    "df = pd.DataFrame({'PassengerId':test_ids.values,\n",
    "                 \"Survived\":submissions_preds})\n",
    "\n",
    "\n",
    "\n",
    "\n",
    "\n"
   ]
  },
  {
   "cell_type": "code",
   "execution_count": 16,
   "metadata": {
    "execution": {
     "iopub.execute_input": "2022-03-25T22:56:30.161547Z",
     "iopub.status.busy": "2022-03-25T22:56:30.160532Z",
     "iopub.status.idle": "2022-03-25T22:56:30.168655Z",
     "shell.execute_reply": "2022-03-25T22:56:30.169283Z",
     "shell.execute_reply.started": "2022-03-25T22:56:06.792948Z"
    },
    "papermill": {
     "duration": 0.029364,
     "end_time": "2022-03-25T22:56:30.169440",
     "exception": false,
     "start_time": "2022-03-25T22:56:30.140076",
     "status": "completed"
    },
    "tags": []
   },
   "outputs": [],
   "source": [
    "df.to_csv(\"submissionsSE.csv\", index = False)"
   ]
  },
  {
   "cell_type": "code",
   "execution_count": null,
   "metadata": {
    "papermill": {
     "duration": 0.017117,
     "end_time": "2022-03-25T22:56:30.203880",
     "exception": false,
     "start_time": "2022-03-25T22:56:30.186763",
     "status": "completed"
    },
    "tags": []
   },
   "outputs": [],
   "source": []
  }
 ],
 "metadata": {
  "kernelspec": {
   "display_name": "Python 3",
   "language": "python",
   "name": "python3"
  },
  "language_info": {
   "codemirror_mode": {
    "name": "ipython",
    "version": 3
   },
   "file_extension": ".py",
   "mimetype": "text/x-python",
   "name": "python",
   "nbconvert_exporter": "python",
   "pygments_lexer": "ipython3",
   "version": "3.7.6"
  },
  "papermill": {
   "duration": 9.05167,
   "end_time": "2022-03-25T22:56:31.284315",
   "environment_variables": {},
   "exception": null,
   "input_path": "__notebook__.ipynb",
   "output_path": "__notebook__.ipynb",
   "parameters": {},
   "start_time": "2022-03-25T22:56:22.232645",
   "version": "2.1.0"
  }
 },
 "nbformat": 4,
 "nbformat_minor": 4
}
