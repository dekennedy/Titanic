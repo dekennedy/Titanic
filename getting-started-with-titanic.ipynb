{
 "cells": [
  {
   "cell_type": "code",
   "execution_count": 1,
   "metadata": {
    "_cell_guid": "b1076dfc-b9ad-4769-8c92-a6c4dae69d19",
    "_uuid": "8f2839f25d086af736a60e9eeb907d3b93b6e0e5",
    "execution": {
     "iopub.execute_input": "2022-03-27T13:43:42.993025Z",
     "iopub.status.busy": "2022-03-27T13:43:42.991996Z",
     "iopub.status.idle": "2022-03-27T13:43:42.996880Z",
     "shell.execute_reply": "2022-03-27T13:43:42.997414Z",
     "shell.execute_reply.started": "2022-03-27T13:35:09.914177Z"
    },
    "papermill": {
     "duration": 0.037262,
     "end_time": "2022-03-27T13:43:42.997609",
     "exception": false,
     "start_time": "2022-03-27T13:43:42.960347",
     "status": "completed"
    },
    "tags": []
   },
   "outputs": [
    {
     "name": "stdout",
     "output_type": "stream",
     "text": [
      "/kaggle/input/titanic/train.csv\n",
      "/kaggle/input/titanic/test.csv\n",
      "/kaggle/input/titanic/gender_submission.csv\n"
     ]
    }
   ],
   "source": [
    "# This Python 3 environment comes with many helpful analytics libraries installed\n",
    "# It is defined by the kaggle/python Docker image: https://github.com/kaggle/docker-python\n",
    "# For example, here's several helpful packages to load\n",
    "\n",
    "import numpy as np # linear algebra\n",
    "import pandas as pd # data processing, CSV file I/O (e.g. pd.read_csv)\n",
    "\n",
    "# Input data files are available in the read-only \"../input/\" directory\n",
    "# For example, running this (by clicking run or pressing Shift+Enter) will list all files under the input directory\n",
    "\n",
    "import os\n",
    "for dirname, _, filenames in os.walk('/kaggle/input'):\n",
    "    for filename in filenames:\n",
    "        print(os.path.join(dirname, filename))\n",
    "\n",
    "# You can write up to 20GB to the current directory (/kaggle/working/) that gets preserved as output when you create a version using \"Save & Run All\" \n",
    "# You can also write temporary files to /kaggle/temp/, but they won't be saved outside of the current session"
   ]
  },
  {
   "cell_type": "code",
   "execution_count": 2,
   "metadata": {
    "execution": {
     "iopub.execute_input": "2022-03-27T13:43:43.036030Z",
     "iopub.status.busy": "2022-03-27T13:43:43.034924Z",
     "iopub.status.idle": "2022-03-27T13:43:43.048354Z",
     "shell.execute_reply": "2022-03-27T13:43:43.048951Z",
     "shell.execute_reply.started": "2022-03-27T13:35:09.927383Z"
    },
    "papermill": {
     "duration": 0.035393,
     "end_time": "2022-03-27T13:43:43.049094",
     "exception": false,
     "start_time": "2022-03-27T13:43:43.013701",
     "status": "completed"
    },
    "tags": []
   },
   "outputs": [],
   "source": [
    "%config Completer.use_jedi = False"
   ]
  },
  {
   "cell_type": "code",
   "execution_count": 3,
   "metadata": {
    "_cell_guid": "79c7e3d0-c299-4dcb-8224-4455121ee9b0",
    "_uuid": "d629ff2d2480ee46fbb7e2d37f6b5fab8052498a",
    "execution": {
     "iopub.execute_input": "2022-03-27T13:43:43.087209Z",
     "iopub.status.busy": "2022-03-27T13:43:43.086552Z",
     "iopub.status.idle": "2022-03-27T13:43:43.126240Z",
     "shell.execute_reply": "2022-03-27T13:43:43.126810Z",
     "shell.execute_reply.started": "2022-03-27T13:35:09.948900Z"
    },
    "papermill": {
     "duration": 0.062175,
     "end_time": "2022-03-27T13:43:43.126960",
     "exception": false,
     "start_time": "2022-03-27T13:43:43.064785",
     "status": "completed"
    },
    "tags": []
   },
   "outputs": [
    {
     "data": {
      "text/html": [
       "<div>\n",
       "<style scoped>\n",
       "    .dataframe tbody tr th:only-of-type {\n",
       "        vertical-align: middle;\n",
       "    }\n",
       "\n",
       "    .dataframe tbody tr th {\n",
       "        vertical-align: top;\n",
       "    }\n",
       "\n",
       "    .dataframe thead th {\n",
       "        text-align: right;\n",
       "    }\n",
       "</style>\n",
       "<table border=\"1\" class=\"dataframe\">\n",
       "  <thead>\n",
       "    <tr style=\"text-align: right;\">\n",
       "      <th></th>\n",
       "      <th>PassengerId</th>\n",
       "      <th>Survived</th>\n",
       "      <th>Pclass</th>\n",
       "      <th>Name</th>\n",
       "      <th>Sex</th>\n",
       "      <th>Age</th>\n",
       "      <th>SibSp</th>\n",
       "      <th>Parch</th>\n",
       "      <th>Ticket</th>\n",
       "      <th>Fare</th>\n",
       "      <th>Cabin</th>\n",
       "      <th>Embarked</th>\n",
       "    </tr>\n",
       "  </thead>\n",
       "  <tbody>\n",
       "    <tr>\n",
       "      <th>0</th>\n",
       "      <td>1</td>\n",
       "      <td>0</td>\n",
       "      <td>3</td>\n",
       "      <td>Braund, Mr. Owen Harris</td>\n",
       "      <td>male</td>\n",
       "      <td>22.0</td>\n",
       "      <td>1</td>\n",
       "      <td>0</td>\n",
       "      <td>A/5 21171</td>\n",
       "      <td>7.2500</td>\n",
       "      <td>NaN</td>\n",
       "      <td>S</td>\n",
       "    </tr>\n",
       "    <tr>\n",
       "      <th>1</th>\n",
       "      <td>2</td>\n",
       "      <td>1</td>\n",
       "      <td>1</td>\n",
       "      <td>Cumings, Mrs. John Bradley (Florence Briggs Th...</td>\n",
       "      <td>female</td>\n",
       "      <td>38.0</td>\n",
       "      <td>1</td>\n",
       "      <td>0</td>\n",
       "      <td>PC 17599</td>\n",
       "      <td>71.2833</td>\n",
       "      <td>C85</td>\n",
       "      <td>C</td>\n",
       "    </tr>\n",
       "    <tr>\n",
       "      <th>2</th>\n",
       "      <td>3</td>\n",
       "      <td>1</td>\n",
       "      <td>3</td>\n",
       "      <td>Heikkinen, Miss. Laina</td>\n",
       "      <td>female</td>\n",
       "      <td>26.0</td>\n",
       "      <td>0</td>\n",
       "      <td>0</td>\n",
       "      <td>STON/O2. 3101282</td>\n",
       "      <td>7.9250</td>\n",
       "      <td>NaN</td>\n",
       "      <td>S</td>\n",
       "    </tr>\n",
       "    <tr>\n",
       "      <th>3</th>\n",
       "      <td>4</td>\n",
       "      <td>1</td>\n",
       "      <td>1</td>\n",
       "      <td>Futrelle, Mrs. Jacques Heath (Lily May Peel)</td>\n",
       "      <td>female</td>\n",
       "      <td>35.0</td>\n",
       "      <td>1</td>\n",
       "      <td>0</td>\n",
       "      <td>113803</td>\n",
       "      <td>53.1000</td>\n",
       "      <td>C123</td>\n",
       "      <td>S</td>\n",
       "    </tr>\n",
       "    <tr>\n",
       "      <th>4</th>\n",
       "      <td>5</td>\n",
       "      <td>0</td>\n",
       "      <td>3</td>\n",
       "      <td>Allen, Mr. William Henry</td>\n",
       "      <td>male</td>\n",
       "      <td>35.0</td>\n",
       "      <td>0</td>\n",
       "      <td>0</td>\n",
       "      <td>373450</td>\n",
       "      <td>8.0500</td>\n",
       "      <td>NaN</td>\n",
       "      <td>S</td>\n",
       "    </tr>\n",
       "  </tbody>\n",
       "</table>\n",
       "</div>"
      ],
      "text/plain": [
       "   PassengerId  Survived  Pclass  \\\n",
       "0            1         0       3   \n",
       "1            2         1       1   \n",
       "2            3         1       3   \n",
       "3            4         1       1   \n",
       "4            5         0       3   \n",
       "\n",
       "                                                Name     Sex   Age  SibSp  \\\n",
       "0                            Braund, Mr. Owen Harris    male  22.0      1   \n",
       "1  Cumings, Mrs. John Bradley (Florence Briggs Th...  female  38.0      1   \n",
       "2                             Heikkinen, Miss. Laina  female  26.0      0   \n",
       "3       Futrelle, Mrs. Jacques Heath (Lily May Peel)  female  35.0      1   \n",
       "4                           Allen, Mr. William Henry    male  35.0      0   \n",
       "\n",
       "   Parch            Ticket     Fare Cabin Embarked  \n",
       "0      0         A/5 21171   7.2500   NaN        S  \n",
       "1      0          PC 17599  71.2833   C85        C  \n",
       "2      0  STON/O2. 3101282   7.9250   NaN        S  \n",
       "3      0            113803  53.1000  C123        S  \n",
       "4      0            373450   8.0500   NaN        S  "
      ]
     },
     "execution_count": 3,
     "metadata": {},
     "output_type": "execute_result"
    }
   ],
   "source": [
    "train_data = pd.read_csv('/kaggle/input/titanic/train.csv')\n",
    "\n",
    "train_data.head()\n",
    "\n",
    "\n",
    "\n"
   ]
  },
  {
   "cell_type": "code",
   "execution_count": 4,
   "metadata": {
    "execution": {
     "iopub.execute_input": "2022-03-27T13:43:43.164026Z",
     "iopub.status.busy": "2022-03-27T13:43:43.163001Z",
     "iopub.status.idle": "2022-03-27T13:43:43.176435Z",
     "shell.execute_reply": "2022-03-27T13:43:43.177033Z",
     "shell.execute_reply.started": "2022-03-27T13:35:09.996809Z"
    },
    "papermill": {
     "duration": 0.033664,
     "end_time": "2022-03-27T13:43:43.177192",
     "exception": false,
     "start_time": "2022-03-27T13:43:43.143528",
     "status": "completed"
    },
    "tags": []
   },
   "outputs": [],
   "source": [
    "test_data = pd.read_csv(\"/kaggle/input/titanic/test.csv\")\n",
    "test_data.head()\n",
    "\n",
    "test_ids = test_data[\"PassengerId\"]\n"
   ]
  },
  {
   "cell_type": "code",
   "execution_count": 5,
   "metadata": {
    "execution": {
     "iopub.execute_input": "2022-03-27T13:43:43.214400Z",
     "iopub.status.busy": "2022-03-27T13:43:43.213758Z",
     "iopub.status.idle": "2022-03-27T13:43:43.225231Z",
     "shell.execute_reply": "2022-03-27T13:43:43.224735Z",
     "shell.execute_reply.started": "2022-03-27T13:35:10.012914Z"
    },
    "papermill": {
     "duration": 0.031112,
     "end_time": "2022-03-27T13:43:43.225348",
     "exception": false,
     "start_time": "2022-03-27T13:43:43.194236",
     "status": "completed"
    },
    "tags": []
   },
   "outputs": [
    {
     "name": "stdout",
     "output_type": "stream",
     "text": [
      "% of women who survived: 0.7420382165605095\n"
     ]
    }
   ],
   "source": [
    "women = train_data.loc[train_data.Sex == 'female'][\"Survived\"]\n",
    "rate_women = sum(women)/len(women)\n",
    "\n",
    "\n",
    "\n",
    "print(\"% of women who survived:\", rate_women)\n"
   ]
  },
  {
   "cell_type": "code",
   "execution_count": 6,
   "metadata": {
    "execution": {
     "iopub.execute_input": "2022-03-27T13:43:43.279189Z",
     "iopub.status.busy": "2022-03-27T13:43:43.278018Z",
     "iopub.status.idle": "2022-03-27T13:43:44.323871Z",
     "shell.execute_reply": "2022-03-27T13:43:44.323152Z",
     "shell.execute_reply.started": "2022-03-27T13:38:57.451894Z"
    },
    "papermill": {
     "duration": 1.082047,
     "end_time": "2022-03-27T13:43:44.323993",
     "exception": false,
     "start_time": "2022-03-27T13:43:43.241946",
     "status": "completed"
    },
    "tags": []
   },
   "outputs": [],
   "source": [
    "from sklearn.impute import SimpleImputer\n",
    "from sklearn import preprocessing\n",
    "le = preprocessing.LabelEncoder()\n",
    "from sklearn.model_selection import train_test_split\n",
    "\n",
    "test_data = pd.read_csv(\"/kaggle/input/titanic/test.csv\")\n",
    "train_data = pd.read_csv('/kaggle/input/titanic/train.csv')\n",
    "\n",
    "#function to clean the data \n",
    "# easy for train test split\n",
    "\n",
    "def clean(data):\n",
    "    data = data.drop(['Ticket','PassengerId', \"Name\"], axis =1)\n",
    "    \n",
    "    \n",
    "    data['Family'] = data['Parch'] + data['SibSp']\n",
    "    \n",
    "    # fill list of cols with the median value\n",
    "    cols= [\"Family\", \"Fare\", \"Age\"]\n",
    "    for col in cols:\n",
    "        data[col].fillna(data[col].median(), inplace=True)\n",
    "        \n",
    "    #fill Embarked with U for Unknown    \n",
    "    data.Embarked.fillna('U', inplace=True)\n",
    "    \n",
    "    #fill Cabin with U for Unknown    \n",
    "    data.Cabin.fillna('U', inplace=True)\n",
    "    data['Cabin'] = train_data['Cabin'].astype(str).str[0]\n",
    "    \n",
    "    \n",
    "    #map string columns\n",
    "    \n",
    "    cols_to_map = ['Sex', 'Embarked', 'Cabin']\n",
    "    for col in cols_to_map:\n",
    "        data[col] = le.fit_transform(data[col])\n",
    "        \n",
    "           \n",
    "    return data\n",
    "\n",
    "train_data = clean(train_data)\n",
    "test_data = clean(test_data)\n",
    "\n",
    "\n",
    "\n",
    "\n",
    "y = train_data[\"Survived\"]\n",
    "X = train_data.drop(\"Survived\", axis=1)\n",
    "\n",
    "X_train, X_val, y_train, y_val = train_test_split(X, y, test_size = .3, random_state = 42)\n",
    "\n",
    "\n",
    "\n",
    "\n",
    "\n",
    "\n"
   ]
  },
  {
   "cell_type": "code",
   "execution_count": 7,
   "metadata": {
    "execution": {
     "iopub.execute_input": "2022-03-27T13:43:44.364139Z",
     "iopub.status.busy": "2022-03-27T13:43:44.363300Z",
     "iopub.status.idle": "2022-03-27T13:43:44.396173Z",
     "shell.execute_reply": "2022-03-27T13:43:44.396809Z",
     "shell.execute_reply.started": "2022-03-27T13:39:01.270122Z"
    },
    "papermill": {
     "duration": 0.055786,
     "end_time": "2022-03-27T13:43:44.396963",
     "exception": false,
     "start_time": "2022-03-27T13:43:44.341177",
     "status": "completed"
    },
    "tags": []
   },
   "outputs": [
    {
     "data": {
      "text/plain": [
       "0.7388059701492538"
      ]
     },
     "execution_count": 7,
     "metadata": {},
     "output_type": "execute_result"
    }
   ],
   "source": [
    "from sklearn import tree\n",
    "\n",
    "clf2 = tree.DecisionTreeClassifier()\n",
    "\n",
    "clf2 = clf2.fit(X_train, y_train)\n",
    "\n",
    "\n",
    "\n",
    "from sklearn.metrics import accuracy_score\n",
    "\n",
    "prediction = clf2.predict(X_val)\n",
    "\n",
    "accuracy_score(y_val, prediction)\n",
    "\n",
    "\n",
    "\n"
   ]
  },
  {
   "cell_type": "code",
   "execution_count": 8,
   "metadata": {
    "execution": {
     "iopub.execute_input": "2022-03-27T13:43:44.434180Z",
     "iopub.status.busy": "2022-03-27T13:43:44.433572Z",
     "iopub.status.idle": "2022-03-27T13:43:44.439590Z",
     "shell.execute_reply": "2022-03-27T13:43:44.440141Z",
     "shell.execute_reply.started": "2022-03-27T13:35:11.226018Z"
    },
    "papermill": {
     "duration": 0.026185,
     "end_time": "2022-03-27T13:43:44.440293",
     "exception": false,
     "start_time": "2022-03-27T13:43:44.414108",
     "status": "completed"
    },
    "tags": []
   },
   "outputs": [],
   "source": [
    "prediction = clf2.predict(test_data)"
   ]
  },
  {
   "cell_type": "code",
   "execution_count": 9,
   "metadata": {
    "execution": {
     "iopub.execute_input": "2022-03-27T13:43:44.477515Z",
     "iopub.status.busy": "2022-03-27T13:43:44.476857Z",
     "iopub.status.idle": "2022-03-27T13:43:44.808921Z",
     "shell.execute_reply": "2022-03-27T13:43:44.808290Z",
     "shell.execute_reply.started": "2022-03-27T13:35:11.234590Z"
    },
    "papermill": {
     "duration": 0.351833,
     "end_time": "2022-03-27T13:43:44.809045",
     "exception": false,
     "start_time": "2022-03-27T13:43:44.457212",
     "status": "completed"
    },
    "tags": []
   },
   "outputs": [],
   "source": [
    "submission = pd.DataFrame({\n",
    "                            'PassengerId': test_ids.values,\n",
    "                            'Survived': prediction})\n",
    "\n",
    "submission.to_csv('titanic_using_DTC3.csv', index=False)\n",
    "\n",
    "\n",
    "\n"
   ]
  },
  {
   "cell_type": "code",
   "execution_count": 10,
   "metadata": {
    "execution": {
     "iopub.execute_input": "2022-03-27T13:43:44.858193Z",
     "iopub.status.busy": "2022-03-27T13:43:44.857195Z",
     "iopub.status.idle": "2022-03-27T13:43:44.861988Z",
     "shell.execute_reply": "2022-03-27T13:43:44.861446Z",
     "shell.execute_reply.started": "2022-03-27T13:35:11.840668Z"
    },
    "papermill": {
     "duration": 0.035268,
     "end_time": "2022-03-27T13:43:44.862106",
     "exception": false,
     "start_time": "2022-03-27T13:43:44.826838",
     "status": "completed"
    },
    "tags": []
   },
   "outputs": [
    {
     "data": {
      "text/html": [
       "<div>\n",
       "<style scoped>\n",
       "    .dataframe tbody tr th:only-of-type {\n",
       "        vertical-align: middle;\n",
       "    }\n",
       "\n",
       "    .dataframe tbody tr th {\n",
       "        vertical-align: top;\n",
       "    }\n",
       "\n",
       "    .dataframe thead th {\n",
       "        text-align: right;\n",
       "    }\n",
       "</style>\n",
       "<table border=\"1\" class=\"dataframe\">\n",
       "  <thead>\n",
       "    <tr style=\"text-align: right;\">\n",
       "      <th></th>\n",
       "      <th>Survived</th>\n",
       "      <th>Pclass</th>\n",
       "      <th>Sex</th>\n",
       "      <th>Age</th>\n",
       "      <th>SibSp</th>\n",
       "      <th>Parch</th>\n",
       "      <th>Fare</th>\n",
       "      <th>Cabin</th>\n",
       "      <th>Embarked</th>\n",
       "      <th>Family</th>\n",
       "    </tr>\n",
       "  </thead>\n",
       "  <tbody>\n",
       "    <tr>\n",
       "      <th>0</th>\n",
       "      <td>0</td>\n",
       "      <td>3</td>\n",
       "      <td>1</td>\n",
       "      <td>22.0</td>\n",
       "      <td>1</td>\n",
       "      <td>0</td>\n",
       "      <td>7.2500</td>\n",
       "      <td>8</td>\n",
       "      <td>2</td>\n",
       "      <td>1</td>\n",
       "    </tr>\n",
       "    <tr>\n",
       "      <th>1</th>\n",
       "      <td>1</td>\n",
       "      <td>1</td>\n",
       "      <td>0</td>\n",
       "      <td>38.0</td>\n",
       "      <td>1</td>\n",
       "      <td>0</td>\n",
       "      <td>71.2833</td>\n",
       "      <td>2</td>\n",
       "      <td>0</td>\n",
       "      <td>1</td>\n",
       "    </tr>\n",
       "    <tr>\n",
       "      <th>2</th>\n",
       "      <td>1</td>\n",
       "      <td>3</td>\n",
       "      <td>0</td>\n",
       "      <td>26.0</td>\n",
       "      <td>0</td>\n",
       "      <td>0</td>\n",
       "      <td>7.9250</td>\n",
       "      <td>8</td>\n",
       "      <td>2</td>\n",
       "      <td>0</td>\n",
       "    </tr>\n",
       "    <tr>\n",
       "      <th>3</th>\n",
       "      <td>1</td>\n",
       "      <td>1</td>\n",
       "      <td>0</td>\n",
       "      <td>35.0</td>\n",
       "      <td>1</td>\n",
       "      <td>0</td>\n",
       "      <td>53.1000</td>\n",
       "      <td>2</td>\n",
       "      <td>2</td>\n",
       "      <td>1</td>\n",
       "    </tr>\n",
       "    <tr>\n",
       "      <th>4</th>\n",
       "      <td>0</td>\n",
       "      <td>3</td>\n",
       "      <td>1</td>\n",
       "      <td>35.0</td>\n",
       "      <td>0</td>\n",
       "      <td>0</td>\n",
       "      <td>8.0500</td>\n",
       "      <td>8</td>\n",
       "      <td>2</td>\n",
       "      <td>0</td>\n",
       "    </tr>\n",
       "  </tbody>\n",
       "</table>\n",
       "</div>"
      ],
      "text/plain": [
       "   Survived  Pclass  Sex   Age  SibSp  Parch     Fare  Cabin  Embarked  Family\n",
       "0         0       3    1  22.0      1      0   7.2500      8         2       1\n",
       "1         1       1    0  38.0      1      0  71.2833      2         0       1\n",
       "2         1       3    0  26.0      0      0   7.9250      8         2       0\n",
       "3         1       1    0  35.0      1      0  53.1000      2         2       1\n",
       "4         0       3    1  35.0      0      0   8.0500      8         2       0"
      ]
     },
     "execution_count": 10,
     "metadata": {},
     "output_type": "execute_result"
    }
   ],
   "source": [
    "train_data.head()\n",
    "\n",
    "# train_data.Cabin.fillna('U', inplace=True)\n",
    "# train_data['Cabin'] = train_data['Cabin'].astype(str).str[0]\n",
    "# train_data.Cabin.unique"
   ]
  },
  {
   "cell_type": "code",
   "execution_count": 11,
   "metadata": {
    "execution": {
     "iopub.execute_input": "2022-03-27T13:43:44.913654Z",
     "iopub.status.busy": "2022-03-27T13:43:44.912534Z",
     "iopub.status.idle": "2022-03-27T13:43:44.942002Z",
     "shell.execute_reply": "2022-03-27T13:43:44.941259Z",
     "shell.execute_reply.started": "2022-03-27T13:42:20.344787Z"
    },
    "papermill": {
     "duration": 0.062168,
     "end_time": "2022-03-27T13:43:44.942123",
     "exception": false,
     "start_time": "2022-03-27T13:43:44.879955",
     "status": "completed"
    },
    "tags": []
   },
   "outputs": [],
   "source": [
    "# reload csv\n",
    "\n",
    "train_data = pd.read_csv('/kaggle/input/titanic/train.csv')\n",
    "\n",
    "test_data = pd.read_csv(\"/kaggle/input/titanic/test.csv\")\n",
    "\n",
    "\n",
    "test_ids = test_data[\"PassengerId\"]\n",
    "\n",
    "\n",
    "\n",
    "from sklearn import preprocessing\n",
    "le = preprocessing.LabelEncoder()\n",
    "\n",
    "\n",
    "#function to clean the data \n",
    "# easy for train test split\n",
    "\n",
    "def clean(data):\n",
    "    \n",
    "    \n",
    "        \n",
    "    data['Family'] = data['Parch'] + data['SibSp']\n",
    "    \n",
    "    \n",
    "    data = data.drop(['Ticket','PassengerId', \"Name\", \"Parch\", \"SibSp\"], axis =1)\n",
    "    \n",
    "    \n",
    "    # fill list of cols with the median value\n",
    "    cols= [\"Family\", \"Fare\", \"Age\"]\n",
    "    for col in cols:\n",
    "        data[col].fillna(data[col].median(), inplace=True)\n",
    "        \n",
    "    #fill Embarked with U for Unknown    \n",
    "    data.Embarked.fillna('U', inplace=True)\n",
    "    \n",
    "    #fill Cabin with U for Unknown    \n",
    "    data.Cabin.fillna('U', inplace=True)\n",
    "    data['Cabin'] = train_data['Cabin'].astype(str).str[0]\n",
    "    \n",
    "    \n",
    "    #map string columns\n",
    "    \n",
    "    cols_to_map = ['Sex', 'Embarked', 'Cabin']\n",
    "    for col in cols_to_map:\n",
    "        data[col] = le.fit_transform(data[col])\n",
    "        \n",
    "           \n",
    "    return data\n",
    "\n",
    "train_data = clean(train_data)\n",
    "test_data = clean(test_data)\n",
    "\n",
    " \n",
    "\n",
    "    \n",
    "    \n",
    "    \n",
    "\n",
    "\n"
   ]
  },
  {
   "cell_type": "code",
   "execution_count": 12,
   "metadata": {
    "execution": {
     "iopub.execute_input": "2022-03-27T13:43:44.990443Z",
     "iopub.status.busy": "2022-03-27T13:43:44.989573Z",
     "iopub.status.idle": "2022-03-27T13:43:44.994432Z",
     "shell.execute_reply": "2022-03-27T13:43:44.993849Z",
     "shell.execute_reply.started": "2022-03-27T13:42:22.822498Z"
    },
    "papermill": {
     "duration": 0.034622,
     "end_time": "2022-03-27T13:43:44.994587",
     "exception": false,
     "start_time": "2022-03-27T13:43:44.959965",
     "status": "completed"
    },
    "tags": []
   },
   "outputs": [
    {
     "data": {
      "text/html": [
       "<div>\n",
       "<style scoped>\n",
       "    .dataframe tbody tr th:only-of-type {\n",
       "        vertical-align: middle;\n",
       "    }\n",
       "\n",
       "    .dataframe tbody tr th {\n",
       "        vertical-align: top;\n",
       "    }\n",
       "\n",
       "    .dataframe thead th {\n",
       "        text-align: right;\n",
       "    }\n",
       "</style>\n",
       "<table border=\"1\" class=\"dataframe\">\n",
       "  <thead>\n",
       "    <tr style=\"text-align: right;\">\n",
       "      <th></th>\n",
       "      <th>Survived</th>\n",
       "      <th>Pclass</th>\n",
       "      <th>Sex</th>\n",
       "      <th>Age</th>\n",
       "      <th>Fare</th>\n",
       "      <th>Cabin</th>\n",
       "      <th>Embarked</th>\n",
       "      <th>Family</th>\n",
       "    </tr>\n",
       "  </thead>\n",
       "  <tbody>\n",
       "    <tr>\n",
       "      <th>0</th>\n",
       "      <td>0</td>\n",
       "      <td>3</td>\n",
       "      <td>1</td>\n",
       "      <td>22.0</td>\n",
       "      <td>7.2500</td>\n",
       "      <td>8</td>\n",
       "      <td>2</td>\n",
       "      <td>1</td>\n",
       "    </tr>\n",
       "    <tr>\n",
       "      <th>1</th>\n",
       "      <td>1</td>\n",
       "      <td>1</td>\n",
       "      <td>0</td>\n",
       "      <td>38.0</td>\n",
       "      <td>71.2833</td>\n",
       "      <td>2</td>\n",
       "      <td>0</td>\n",
       "      <td>1</td>\n",
       "    </tr>\n",
       "    <tr>\n",
       "      <th>2</th>\n",
       "      <td>1</td>\n",
       "      <td>3</td>\n",
       "      <td>0</td>\n",
       "      <td>26.0</td>\n",
       "      <td>7.9250</td>\n",
       "      <td>8</td>\n",
       "      <td>2</td>\n",
       "      <td>0</td>\n",
       "    </tr>\n",
       "    <tr>\n",
       "      <th>3</th>\n",
       "      <td>1</td>\n",
       "      <td>1</td>\n",
       "      <td>0</td>\n",
       "      <td>35.0</td>\n",
       "      <td>53.1000</td>\n",
       "      <td>2</td>\n",
       "      <td>2</td>\n",
       "      <td>1</td>\n",
       "    </tr>\n",
       "    <tr>\n",
       "      <th>4</th>\n",
       "      <td>0</td>\n",
       "      <td>3</td>\n",
       "      <td>1</td>\n",
       "      <td>35.0</td>\n",
       "      <td>8.0500</td>\n",
       "      <td>8</td>\n",
       "      <td>2</td>\n",
       "      <td>0</td>\n",
       "    </tr>\n",
       "  </tbody>\n",
       "</table>\n",
       "</div>"
      ],
      "text/plain": [
       "   Survived  Pclass  Sex   Age     Fare  Cabin  Embarked  Family\n",
       "0         0       3    1  22.0   7.2500      8         2       1\n",
       "1         1       1    0  38.0  71.2833      2         0       1\n",
       "2         1       3    0  26.0   7.9250      8         2       0\n",
       "3         1       1    0  35.0  53.1000      2         2       1\n",
       "4         0       3    1  35.0   8.0500      8         2       0"
      ]
     },
     "execution_count": 12,
     "metadata": {},
     "output_type": "execute_result"
    }
   ],
   "source": [
    "train_data.head(5)"
   ]
  },
  {
   "cell_type": "code",
   "execution_count": 13,
   "metadata": {
    "execution": {
     "iopub.execute_input": "2022-03-27T13:43:45.038780Z",
     "iopub.status.busy": "2022-03-27T13:43:45.037810Z",
     "iopub.status.idle": "2022-03-27T13:43:45.043360Z",
     "shell.execute_reply": "2022-03-27T13:43:45.042797Z",
     "shell.execute_reply.started": "2022-03-27T13:42:37.600283Z"
    },
    "papermill": {
     "duration": 0.030885,
     "end_time": "2022-03-27T13:43:45.043510",
     "exception": false,
     "start_time": "2022-03-27T13:43:45.012625",
     "status": "completed"
    },
    "tags": []
   },
   "outputs": [],
   "source": [
    "from sklearn.linear_model import LogisticRegression\n",
    "from sklearn.model_selection import train_test_split\n",
    "\n",
    "\n",
    "y = train_data[\"Survived\"]\n",
    "X = train_data.drop(\"Survived\", axis=1)\n",
    "\n",
    "X_train, X_val, y_train, y_val = train_test_split(X, y, test_size = .2, random_state = 42)\n",
    "\n",
    "\n"
   ]
  },
  {
   "cell_type": "code",
   "execution_count": 14,
   "metadata": {
    "execution": {
     "iopub.execute_input": "2022-03-27T13:43:45.083703Z",
     "iopub.status.busy": "2022-03-27T13:43:45.083017Z",
     "iopub.status.idle": "2022-03-27T13:43:45.146450Z",
     "shell.execute_reply": "2022-03-27T13:43:45.145883Z",
     "shell.execute_reply.started": "2022-03-27T13:42:40.414163Z"
    },
    "papermill": {
     "duration": 0.084492,
     "end_time": "2022-03-27T13:43:45.146603",
     "exception": false,
     "start_time": "2022-03-27T13:43:45.062111",
     "status": "completed"
    },
    "tags": []
   },
   "outputs": [],
   "source": [
    "clf = LogisticRegression(random_state=0, max_iter = 1000).fit(X_train,y_train)"
   ]
  },
  {
   "cell_type": "code",
   "execution_count": 15,
   "metadata": {
    "execution": {
     "iopub.execute_input": "2022-03-27T13:43:45.192719Z",
     "iopub.status.busy": "2022-03-27T13:43:45.190785Z",
     "iopub.status.idle": "2022-03-27T13:43:45.196345Z",
     "shell.execute_reply": "2022-03-27T13:43:45.196885Z",
     "shell.execute_reply.started": "2022-03-27T13:42:44.846165Z"
    },
    "papermill": {
     "duration": 0.031797,
     "end_time": "2022-03-27T13:43:45.197035",
     "exception": false,
     "start_time": "2022-03-27T13:43:45.165238",
     "status": "completed"
    },
    "tags": []
   },
   "outputs": [
    {
     "data": {
      "text/plain": [
       "0.8212290502793296"
      ]
     },
     "execution_count": 15,
     "metadata": {},
     "output_type": "execute_result"
    }
   ],
   "source": [
    "from sklearn.metrics import accuracy_score\n",
    "\n",
    "predictions = clf.predict(X_val)\n",
    "\n",
    "accuracy_score(y_val, predictions)\n",
    "\n",
    "\n",
    "\n",
    "\n"
   ]
  },
  {
   "cell_type": "code",
   "execution_count": 16,
   "metadata": {
    "execution": {
     "iopub.execute_input": "2022-03-27T13:43:45.238079Z",
     "iopub.status.busy": "2022-03-27T13:43:45.237378Z",
     "iopub.status.idle": "2022-03-27T13:43:45.244973Z",
     "shell.execute_reply": "2022-03-27T13:43:45.245584Z",
     "shell.execute_reply.started": "2022-03-27T13:43:04.123687Z"
    },
    "papermill": {
     "duration": 0.029899,
     "end_time": "2022-03-27T13:43:45.245734",
     "exception": false,
     "start_time": "2022-03-27T13:43:45.215835",
     "status": "completed"
    },
    "tags": []
   },
   "outputs": [],
   "source": [
    "# Predict the test data\n",
    "\n",
    "submissions_preds = clf.predict(test_data)\n",
    "\n",
    "\n"
   ]
  },
  {
   "cell_type": "code",
   "execution_count": 17,
   "metadata": {
    "execution": {
     "iopub.execute_input": "2022-03-27T13:43:45.286594Z",
     "iopub.status.busy": "2022-03-27T13:43:45.285945Z",
     "iopub.status.idle": "2022-03-27T13:43:45.291583Z",
     "shell.execute_reply": "2022-03-27T13:43:45.292210Z",
     "shell.execute_reply.started": "2022-03-27T13:43:07.554096Z"
    },
    "papermill": {
     "duration": 0.027753,
     "end_time": "2022-03-27T13:43:45.292351",
     "exception": false,
     "start_time": "2022-03-27T13:43:45.264598",
     "status": "completed"
    },
    "tags": []
   },
   "outputs": [],
   "source": [
    "\n",
    "# making the submissions data frame\n",
    "\n",
    "df = pd.DataFrame({'PassengerId':test_ids.values,\n",
    "                 \"Survived\":submissions_preds})\n",
    "\n",
    "\n"
   ]
  },
  {
   "cell_type": "code",
   "execution_count": 18,
   "metadata": {
    "execution": {
     "iopub.execute_input": "2022-03-27T13:43:45.332526Z",
     "iopub.status.busy": "2022-03-27T13:43:45.331900Z",
     "iopub.status.idle": "2022-03-27T13:43:45.338720Z",
     "shell.execute_reply": "2022-03-27T13:43:45.339242Z",
     "shell.execute_reply.started": "2022-03-27T13:43:18.487587Z"
    },
    "papermill": {
     "duration": 0.028429,
     "end_time": "2022-03-27T13:43:45.339382",
     "exception": false,
     "start_time": "2022-03-27T13:43:45.310953",
     "status": "completed"
    },
    "tags": []
   },
   "outputs": [],
   "source": [
    "df.to_csv(\"submissionsFamily.csv\", index = False)"
   ]
  },
  {
   "cell_type": "code",
   "execution_count": null,
   "metadata": {
    "papermill": {
     "duration": 0.018134,
     "end_time": "2022-03-27T13:43:45.377795",
     "exception": false,
     "start_time": "2022-03-27T13:43:45.359661",
     "status": "completed"
    },
    "tags": []
   },
   "outputs": [],
   "source": []
  }
 ],
 "metadata": {
  "kernelspec": {
   "display_name": "Python 3",
   "language": "python",
   "name": "python3"
  },
  "language_info": {
   "codemirror_mode": {
    "name": "ipython",
    "version": 3
   },
   "file_extension": ".py",
   "mimetype": "text/x-python",
   "name": "python",
   "nbconvert_exporter": "python",
   "pygments_lexer": "ipython3",
   "version": "3.7.6"
  },
  "papermill": {
   "duration": 6.768631,
   "end_time": "2022-03-27T13:43:45.503056",
   "environment_variables": {},
   "exception": null,
   "input_path": "__notebook__.ipynb",
   "output_path": "__notebook__.ipynb",
   "parameters": {},
   "start_time": "2022-03-27T13:43:38.734425",
   "version": "2.1.0"
  }
 },
 "nbformat": 4,
 "nbformat_minor": 4
}
